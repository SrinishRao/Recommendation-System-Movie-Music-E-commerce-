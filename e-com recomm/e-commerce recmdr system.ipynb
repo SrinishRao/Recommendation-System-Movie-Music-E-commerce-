{
 "cells": [
  {
   "cell_type": "code",
   "execution_count": 36,
   "metadata": {},
   "outputs": [],
   "source": [
    "import pandas as pd\n",
    "\n",
    "import numpy as np\n",
    "\n",
    "import matplotlib.pyplot as plt\n",
    "\n",
    "import tensorflow as tf\n",
    "\n",
    "from tensorflow import keras\n",
    "\n",
    "from tensorflow.keras import layers\n",
    "\n",
    "from numpy import dot\n",
    "\n",
    "from numpy.linalg import norm"
   ]
  },
  {
   "cell_type": "markdown",
   "metadata": {},
   "source": [
    "# Let’s take a quick look at the datasets:"
   ]
  },
  {
   "cell_type": "code",
   "execution_count": 37,
   "metadata": {},
   "outputs": [],
   "source": [
    "data = pd.read_csv(\"ecommerce.csv\",encoding= 'unicode_escape')\n",
    "# unicode escape in python tells to consider quotes inside a string as normal data and not consider it as string termination.\n",
    "data_copy = data.copy()\n",
    "data = data.dropna()"
   ]
  },
  {
   "cell_type": "code",
   "execution_count": 38,
   "metadata": {},
   "outputs": [
    {
     "data": {
      "text/plain": [
       "InvoiceNo      22190\n",
       "StockCode       3684\n",
       "Description     3896\n",
       "Quantity         436\n",
       "InvoiceDate    20460\n",
       "UnitPrice        620\n",
       "CustomerID      4372\n",
       "Country           37\n",
       "dtype: int64"
      ]
     },
     "execution_count": 38,
     "metadata": {},
     "output_type": "execute_result"
    }
   ],
   "source": [
    "data.nunique()"
   ]
  },
  {
   "cell_type": "markdown",
   "metadata": {},
   "source": [
    "# Analysing the data"
   ]
  },
  {
   "cell_type": "code",
   "execution_count": 39,
   "metadata": {},
   "outputs": [
    {
     "name": "stdout",
     "output_type": "stream",
     "text": [
      "<class 'pandas.core.frame.DataFrame'>\n",
      "Int64Index: 406829 entries, 0 to 541908\n",
      "Data columns (total 8 columns):\n",
      " #   Column       Non-Null Count   Dtype  \n",
      "---  ------       --------------   -----  \n",
      " 0   InvoiceNo    406829 non-null  object \n",
      " 1   StockCode    406829 non-null  object \n",
      " 2   Description  406829 non-null  object \n",
      " 3   Quantity     406829 non-null  int64  \n",
      " 4   InvoiceDate  406829 non-null  object \n",
      " 5   UnitPrice    406829 non-null  float64\n",
      " 6   CustomerID   406829 non-null  float64\n",
      " 7   Country      406829 non-null  object \n",
      "dtypes: float64(2), int64(1), object(5)\n",
      "memory usage: 27.9+ MB\n"
     ]
    }
   ],
   "source": [
    "data.info()"
   ]
  },
  {
   "cell_type": "code",
   "execution_count": 40,
   "metadata": {},
   "outputs": [
    {
     "data": {
      "text/plain": [
       "InvoiceNo      0\n",
       "StockCode      0\n",
       "Description    0\n",
       "Quantity       0\n",
       "InvoiceDate    0\n",
       "UnitPrice      0\n",
       "CustomerID     0\n",
       "Country        0\n",
       "dtype: int64"
      ]
     },
     "execution_count": 40,
     "metadata": {},
     "output_type": "execute_result"
    }
   ],
   "source": [
    "data.isna().sum()"
   ]
  },
  {
   "cell_type": "markdown",
   "metadata": {},
   "source": [
    "# Lets create pivot table\n",
    "pivot table turns the data to view it from different perspectives."
   ]
  },
  {
   "cell_type": "code",
   "execution_count": 41,
   "metadata": {},
   "outputs": [
    {
     "data": {
      "text/html": [
       "<div>\n",
       "<style scoped>\n",
       "    .dataframe tbody tr th:only-of-type {\n",
       "        vertical-align: middle;\n",
       "    }\n",
       "\n",
       "    .dataframe tbody tr th {\n",
       "        vertical-align: top;\n",
       "    }\n",
       "\n",
       "    .dataframe thead th {\n",
       "        text-align: right;\n",
       "    }\n",
       "</style>\n",
       "<table border=\"1\" class=\"dataframe\">\n",
       "  <thead>\n",
       "    <tr style=\"text-align: right;\">\n",
       "      <th>CustomerID</th>\n",
       "      <th>12346.0</th>\n",
       "      <th>12347.0</th>\n",
       "      <th>12348.0</th>\n",
       "      <th>12349.0</th>\n",
       "      <th>12350.0</th>\n",
       "      <th>12352.0</th>\n",
       "      <th>12353.0</th>\n",
       "      <th>12354.0</th>\n",
       "      <th>12355.0</th>\n",
       "      <th>12356.0</th>\n",
       "      <th>...</th>\n",
       "      <th>18273.0</th>\n",
       "      <th>18274.0</th>\n",
       "      <th>18276.0</th>\n",
       "      <th>18277.0</th>\n",
       "      <th>18278.0</th>\n",
       "      <th>18280.0</th>\n",
       "      <th>18281.0</th>\n",
       "      <th>18282.0</th>\n",
       "      <th>18283.0</th>\n",
       "      <th>18287.0</th>\n",
       "    </tr>\n",
       "    <tr>\n",
       "      <th>Description</th>\n",
       "      <th></th>\n",
       "      <th></th>\n",
       "      <th></th>\n",
       "      <th></th>\n",
       "      <th></th>\n",
       "      <th></th>\n",
       "      <th></th>\n",
       "      <th></th>\n",
       "      <th></th>\n",
       "      <th></th>\n",
       "      <th></th>\n",
       "      <th></th>\n",
       "      <th></th>\n",
       "      <th></th>\n",
       "      <th></th>\n",
       "      <th></th>\n",
       "      <th></th>\n",
       "      <th></th>\n",
       "      <th></th>\n",
       "      <th></th>\n",
       "      <th></th>\n",
       "    </tr>\n",
       "  </thead>\n",
       "  <tbody>\n",
       "    <tr>\n",
       "      <th>4 PURPLE FLOCK DINNER CANDLES</th>\n",
       "      <td>0.0</td>\n",
       "      <td>0.0</td>\n",
       "      <td>0.0</td>\n",
       "      <td>0.0</td>\n",
       "      <td>0.0</td>\n",
       "      <td>0.0</td>\n",
       "      <td>0.0</td>\n",
       "      <td>0.0</td>\n",
       "      <td>0.0</td>\n",
       "      <td>0.0</td>\n",
       "      <td>...</td>\n",
       "      <td>0.0</td>\n",
       "      <td>0.0</td>\n",
       "      <td>0.0</td>\n",
       "      <td>0.0</td>\n",
       "      <td>0.0</td>\n",
       "      <td>0.0</td>\n",
       "      <td>0.0</td>\n",
       "      <td>0.0</td>\n",
       "      <td>0.0</td>\n",
       "      <td>0.0</td>\n",
       "    </tr>\n",
       "    <tr>\n",
       "      <th>50'S CHRISTMAS GIFT BAG LARGE</th>\n",
       "      <td>0.0</td>\n",
       "      <td>0.0</td>\n",
       "      <td>0.0</td>\n",
       "      <td>0.0</td>\n",
       "      <td>0.0</td>\n",
       "      <td>0.0</td>\n",
       "      <td>0.0</td>\n",
       "      <td>0.0</td>\n",
       "      <td>0.0</td>\n",
       "      <td>0.0</td>\n",
       "      <td>...</td>\n",
       "      <td>0.0</td>\n",
       "      <td>0.0</td>\n",
       "      <td>0.0</td>\n",
       "      <td>0.0</td>\n",
       "      <td>0.0</td>\n",
       "      <td>0.0</td>\n",
       "      <td>0.0</td>\n",
       "      <td>0.0</td>\n",
       "      <td>0.0</td>\n",
       "      <td>0.0</td>\n",
       "    </tr>\n",
       "    <tr>\n",
       "      <th>DOLLY GIRL BEAKER</th>\n",
       "      <td>0.0</td>\n",
       "      <td>0.0</td>\n",
       "      <td>0.0</td>\n",
       "      <td>0.0</td>\n",
       "      <td>0.0</td>\n",
       "      <td>0.0</td>\n",
       "      <td>0.0</td>\n",
       "      <td>0.0</td>\n",
       "      <td>0.0</td>\n",
       "      <td>0.0</td>\n",
       "      <td>...</td>\n",
       "      <td>0.0</td>\n",
       "      <td>0.0</td>\n",
       "      <td>0.0</td>\n",
       "      <td>0.0</td>\n",
       "      <td>0.0</td>\n",
       "      <td>0.0</td>\n",
       "      <td>0.0</td>\n",
       "      <td>0.0</td>\n",
       "      <td>0.0</td>\n",
       "      <td>0.0</td>\n",
       "    </tr>\n",
       "    <tr>\n",
       "      <th>I LOVE LONDON MINI BACKPACK</th>\n",
       "      <td>0.0</td>\n",
       "      <td>0.0</td>\n",
       "      <td>0.0</td>\n",
       "      <td>0.0</td>\n",
       "      <td>0.0</td>\n",
       "      <td>0.0</td>\n",
       "      <td>0.0</td>\n",
       "      <td>0.0</td>\n",
       "      <td>0.0</td>\n",
       "      <td>0.0</td>\n",
       "      <td>...</td>\n",
       "      <td>0.0</td>\n",
       "      <td>0.0</td>\n",
       "      <td>0.0</td>\n",
       "      <td>0.0</td>\n",
       "      <td>0.0</td>\n",
       "      <td>0.0</td>\n",
       "      <td>0.0</td>\n",
       "      <td>0.0</td>\n",
       "      <td>0.0</td>\n",
       "      <td>0.0</td>\n",
       "    </tr>\n",
       "    <tr>\n",
       "      <th>I LOVE LONDON MINI RUCKSACK</th>\n",
       "      <td>0.0</td>\n",
       "      <td>0.0</td>\n",
       "      <td>0.0</td>\n",
       "      <td>0.0</td>\n",
       "      <td>0.0</td>\n",
       "      <td>0.0</td>\n",
       "      <td>0.0</td>\n",
       "      <td>0.0</td>\n",
       "      <td>0.0</td>\n",
       "      <td>0.0</td>\n",
       "      <td>...</td>\n",
       "      <td>0.0</td>\n",
       "      <td>0.0</td>\n",
       "      <td>0.0</td>\n",
       "      <td>0.0</td>\n",
       "      <td>0.0</td>\n",
       "      <td>0.0</td>\n",
       "      <td>0.0</td>\n",
       "      <td>0.0</td>\n",
       "      <td>0.0</td>\n",
       "      <td>0.0</td>\n",
       "    </tr>\n",
       "  </tbody>\n",
       "</table>\n",
       "<p>5 rows × 4372 columns</p>\n",
       "</div>"
      ],
      "text/plain": [
       "CustomerID                      12346.0  12347.0  12348.0  12349.0  12350.0  \\\n",
       "Description                                                                   \n",
       " 4 PURPLE FLOCK DINNER CANDLES      0.0      0.0      0.0      0.0      0.0   \n",
       " 50'S CHRISTMAS GIFT BAG LARGE      0.0      0.0      0.0      0.0      0.0   \n",
       " DOLLY GIRL BEAKER                  0.0      0.0      0.0      0.0      0.0   \n",
       " I LOVE LONDON MINI BACKPACK        0.0      0.0      0.0      0.0      0.0   \n",
       " I LOVE LONDON MINI RUCKSACK        0.0      0.0      0.0      0.0      0.0   \n",
       "\n",
       "CustomerID                      12352.0  12353.0  12354.0  12355.0  12356.0  \\\n",
       "Description                                                                   \n",
       " 4 PURPLE FLOCK DINNER CANDLES      0.0      0.0      0.0      0.0      0.0   \n",
       " 50'S CHRISTMAS GIFT BAG LARGE      0.0      0.0      0.0      0.0      0.0   \n",
       " DOLLY GIRL BEAKER                  0.0      0.0      0.0      0.0      0.0   \n",
       " I LOVE LONDON MINI BACKPACK        0.0      0.0      0.0      0.0      0.0   \n",
       " I LOVE LONDON MINI RUCKSACK        0.0      0.0      0.0      0.0      0.0   \n",
       "\n",
       "CustomerID                      ...  18273.0  18274.0  18276.0  18277.0  \\\n",
       "Description                     ...                                       \n",
       " 4 PURPLE FLOCK DINNER CANDLES  ...      0.0      0.0      0.0      0.0   \n",
       " 50'S CHRISTMAS GIFT BAG LARGE  ...      0.0      0.0      0.0      0.0   \n",
       " DOLLY GIRL BEAKER              ...      0.0      0.0      0.0      0.0   \n",
       " I LOVE LONDON MINI BACKPACK    ...      0.0      0.0      0.0      0.0   \n",
       " I LOVE LONDON MINI RUCKSACK    ...      0.0      0.0      0.0      0.0   \n",
       "\n",
       "CustomerID                      18278.0  18280.0  18281.0  18282.0  18283.0  \\\n",
       "Description                                                                   \n",
       " 4 PURPLE FLOCK DINNER CANDLES      0.0      0.0      0.0      0.0      0.0   \n",
       " 50'S CHRISTMAS GIFT BAG LARGE      0.0      0.0      0.0      0.0      0.0   \n",
       " DOLLY GIRL BEAKER                  0.0      0.0      0.0      0.0      0.0   \n",
       " I LOVE LONDON MINI BACKPACK        0.0      0.0      0.0      0.0      0.0   \n",
       " I LOVE LONDON MINI RUCKSACK        0.0      0.0      0.0      0.0      0.0   \n",
       "\n",
       "CustomerID                      18287.0  \n",
       "Description                              \n",
       " 4 PURPLE FLOCK DINNER CANDLES      0.0  \n",
       " 50'S CHRISTMAS GIFT BAG LARGE      0.0  \n",
       " DOLLY GIRL BEAKER                  0.0  \n",
       " I LOVE LONDON MINI BACKPACK        0.0  \n",
       " I LOVE LONDON MINI RUCKSACK        0.0  \n",
       "\n",
       "[5 rows x 4372 columns]"
      ]
     },
     "execution_count": 41,
     "metadata": {},
     "output_type": "execute_result"
    }
   ],
   "source": [
    "e_features = data.pivot_table(index=\"Description\",columns=\"CustomerID\",values=\"Quantity\").fillna(0)\n",
    "e_features.head()"
   ]
  },
  {
   "cell_type": "markdown",
   "metadata": {},
   "source": [
    "# Converting pivot table into Array matrix"
   ]
  },
  {
   "cell_type": "code",
   "execution_count": 42,
   "metadata": {},
   "outputs": [],
   "source": [
    "from scipy.sparse import csr_matrix\n",
    "\n",
    "e_features_matrix = csr_matrix(e_features.values)\n"
   ]
  },
  {
   "cell_type": "markdown",
   "metadata": {},
   "source": [
    "# KNN\n",
    "Using cosine similarity to get the similarities between the products"
   ]
  },
  {
   "cell_type": "code",
   "execution_count": 43,
   "metadata": {},
   "outputs": [
    {
     "data": {
      "text/html": [
       "<style>#sk-container-id-2 {color: black;background-color: white;}#sk-container-id-2 pre{padding: 0;}#sk-container-id-2 div.sk-toggleable {background-color: white;}#sk-container-id-2 label.sk-toggleable__label {cursor: pointer;display: block;width: 100%;margin-bottom: 0;padding: 0.3em;box-sizing: border-box;text-align: center;}#sk-container-id-2 label.sk-toggleable__label-arrow:before {content: \"▸\";float: left;margin-right: 0.25em;color: #696969;}#sk-container-id-2 label.sk-toggleable__label-arrow:hover:before {color: black;}#sk-container-id-2 div.sk-estimator:hover label.sk-toggleable__label-arrow:before {color: black;}#sk-container-id-2 div.sk-toggleable__content {max-height: 0;max-width: 0;overflow: hidden;text-align: left;background-color: #f0f8ff;}#sk-container-id-2 div.sk-toggleable__content pre {margin: 0.2em;color: black;border-radius: 0.25em;background-color: #f0f8ff;}#sk-container-id-2 input.sk-toggleable__control:checked~div.sk-toggleable__content {max-height: 200px;max-width: 100%;overflow: auto;}#sk-container-id-2 input.sk-toggleable__control:checked~label.sk-toggleable__label-arrow:before {content: \"▾\";}#sk-container-id-2 div.sk-estimator input.sk-toggleable__control:checked~label.sk-toggleable__label {background-color: #d4ebff;}#sk-container-id-2 div.sk-label input.sk-toggleable__control:checked~label.sk-toggleable__label {background-color: #d4ebff;}#sk-container-id-2 input.sk-hidden--visually {border: 0;clip: rect(1px 1px 1px 1px);clip: rect(1px, 1px, 1px, 1px);height: 1px;margin: -1px;overflow: hidden;padding: 0;position: absolute;width: 1px;}#sk-container-id-2 div.sk-estimator {font-family: monospace;background-color: #f0f8ff;border: 1px dotted black;border-radius: 0.25em;box-sizing: border-box;margin-bottom: 0.5em;}#sk-container-id-2 div.sk-estimator:hover {background-color: #d4ebff;}#sk-container-id-2 div.sk-parallel-item::after {content: \"\";width: 100%;border-bottom: 1px solid gray;flex-grow: 1;}#sk-container-id-2 div.sk-label:hover label.sk-toggleable__label {background-color: #d4ebff;}#sk-container-id-2 div.sk-serial::before {content: \"\";position: absolute;border-left: 1px solid gray;box-sizing: border-box;top: 0;bottom: 0;left: 50%;z-index: 0;}#sk-container-id-2 div.sk-serial {display: flex;flex-direction: column;align-items: center;background-color: white;padding-right: 0.2em;padding-left: 0.2em;position: relative;}#sk-container-id-2 div.sk-item {position: relative;z-index: 1;}#sk-container-id-2 div.sk-parallel {display: flex;align-items: stretch;justify-content: center;background-color: white;position: relative;}#sk-container-id-2 div.sk-item::before, #sk-container-id-2 div.sk-parallel-item::before {content: \"\";position: absolute;border-left: 1px solid gray;box-sizing: border-box;top: 0;bottom: 0;left: 50%;z-index: -1;}#sk-container-id-2 div.sk-parallel-item {display: flex;flex-direction: column;z-index: 1;position: relative;background-color: white;}#sk-container-id-2 div.sk-parallel-item:first-child::after {align-self: flex-end;width: 50%;}#sk-container-id-2 div.sk-parallel-item:last-child::after {align-self: flex-start;width: 50%;}#sk-container-id-2 div.sk-parallel-item:only-child::after {width: 0;}#sk-container-id-2 div.sk-dashed-wrapped {border: 1px dashed gray;margin: 0 0.4em 0.5em 0.4em;box-sizing: border-box;padding-bottom: 0.4em;background-color: white;}#sk-container-id-2 div.sk-label label {font-family: monospace;font-weight: bold;display: inline-block;line-height: 1.2em;}#sk-container-id-2 div.sk-label-container {text-align: center;}#sk-container-id-2 div.sk-container {/* jupyter's `normalize.less` sets `[hidden] { display: none; }` but bootstrap.min.css set `[hidden] { display: none !important; }` so we also need the `!important` here to be able to override the default hidden behavior on the sphinx rendered scikit-learn.org. See: https://github.com/scikit-learn/scikit-learn/issues/21755 */display: inline-block !important;position: relative;}#sk-container-id-2 div.sk-text-repr-fallback {display: none;}</style><div id=\"sk-container-id-2\" class=\"sk-top-container\"><div class=\"sk-text-repr-fallback\"><pre>NearestNeighbors(algorithm=&#x27;brute&#x27;, metric=&#x27;cosine&#x27;)</pre><b>In a Jupyter environment, please rerun this cell to show the HTML representation or trust the notebook. <br />On GitHub, the HTML representation is unable to render, please try loading this page with nbviewer.org.</b></div><div class=\"sk-container\" hidden><div class=\"sk-item\"><div class=\"sk-estimator sk-toggleable\"><input class=\"sk-toggleable__control sk-hidden--visually\" id=\"sk-estimator-id-2\" type=\"checkbox\" checked><label for=\"sk-estimator-id-2\" class=\"sk-toggleable__label sk-toggleable__label-arrow\">NearestNeighbors</label><div class=\"sk-toggleable__content\"><pre>NearestNeighbors(algorithm=&#x27;brute&#x27;, metric=&#x27;cosine&#x27;)</pre></div></div></div></div></div>"
      ],
      "text/plain": [
       "NearestNeighbors(algorithm='brute', metric='cosine')"
      ]
     },
     "execution_count": 43,
     "metadata": {},
     "output_type": "execute_result"
    }
   ],
   "source": [
    "from sklearn.neighbors import NearestNeighbors\n",
    "\n",
    "model_knn = NearestNeighbors(metric=\"cosine\",algorithm=\"brute\")\n",
    "model_knn.fit(e_features_matrix)"
   ]
  },
  {
   "cell_type": "code",
   "execution_count": 44,
   "metadata": {},
   "outputs": [
    {
     "data": {
      "text/plain": [
       "(3896, 4372)"
      ]
     },
     "execution_count": 44,
     "metadata": {},
     "output_type": "execute_result"
    }
   ],
   "source": [
    "e_features.shape"
   ]
  },
  {
   "cell_type": "markdown",
   "metadata": {},
   "source": [
    "# selecting an item name to make recommendation"
   ]
  },
  {
   "cell_type": "code",
   "execution_count": 45,
   "metadata": {},
   "outputs": [
    {
     "name": "stdout",
     "output_type": "stream",
     "text": [
      "3724\n"
     ]
    }
   ],
   "source": [
    "ITEM_NAME = \"WHITE METAL LANTERN\"\n",
    "\n",
    "query_index = 0\n",
    "for data in e_features.index:\n",
    "    \n",
    "    if ITEM_NAME.lower().strip() in data.lower():\n",
    "        print(query_index)\n",
    "        break\n",
    "    query_index += 1\n"
   ]
  },
  {
   "cell_type": "code",
   "execution_count": 46,
   "metadata": {},
   "outputs": [
    {
     "name": "stdout",
     "output_type": "stream",
     "text": [
      "3724\n"
     ]
    }
   ],
   "source": [
    "print(query_index)\n",
    "distance , indices = model_knn.kneighbors(e_features.iloc[query_index,:].values.reshape(1,-1), n_neighbors=6)"
   ]
  },
  {
   "cell_type": "markdown",
   "metadata": {},
   "source": [
    "# Make Recommendation"
   ]
  },
  {
   "cell_type": "code",
   "execution_count": 47,
   "metadata": {},
   "outputs": [
    {
     "name": "stdout",
     "output_type": "stream",
     "text": [
      "Recommendation for WHITE METAL LANTERN:\n",
      "\n",
      "1: 50'S CHRISTMAS GIFT BAG LARGE, with distance of 0.36926943483558705:\n",
      "2: RED SPOT GIFT BAG LARGE, with distance of 0.3750455878480734:\n",
      "3:LOVE HOT WATER BOTTLE, with distance of 0.37670872260838584:\n",
      "4:EGG CUP HENRIETTA HEN CREAM , with distance of 0.3807696153667398:\n",
      "5:WRAP, BILLBOARD FONTS DESIGN, with distance of 0.3932243402231279:\n"
     ]
    }
   ],
   "source": [
    "for i in range(0, len(distance.flatten())):\n",
    "    if i == 0:\n",
    "        print(\"Recommendation for {0}:\\n\".format(e_features.index[query_index]))\n",
    "    else:\n",
    "        print(\"{0}:{1}, with distance of {2}:\".format(i,e_features.index[indices.flatten()[i]],distance.flatten()[i]))"
   ]
  },
  {
   "cell_type": "markdown",
   "metadata": {},
   "source": [
    "# Selecting a random product to give recommendation"
   ]
  },
  {
   "cell_type": "code",
   "execution_count": 48,
   "metadata": {},
   "outputs": [
    {
     "name": "stdout",
     "output_type": "stream",
     "text": [
      "3713\n"
     ]
    }
   ],
   "source": [
    "query_index = np.random.choice(e_features.shape[0])\n",
    "print(query_index)\n",
    "distance , indices = model_knn.kneighbors(e_features.iloc[query_index,:].values.reshape(1,-1), n_neighbors=6)"
   ]
  },
  {
   "cell_type": "markdown",
   "metadata": {},
   "source": [
    "# Let’s Make Some product Recommendations"
   ]
  },
  {
   "cell_type": "code",
   "execution_count": 49,
   "metadata": {},
   "outputs": [
    {
     "name": "stdout",
     "output_type": "stream",
     "text": [
      "Recommendation for WHITE GOOSE FEATHER TREE 60CM :\n",
      "\n",
      "1:PINK GOOSE FEATHER TREE 60CM, with distance of 0.46551692448046256:\n",
      "2:GREEN GOOSE FEATHER CHRISTMAS TREE , with distance of 0.5079271097787478:\n",
      "3:BLUE CHENILLE SHAGGY CUSHION COVER , with distance of 0.5575543920251773:\n",
      "4:WHITE GOOSE FEATHER CHRISTMAS TREE , with distance of 0.5676324236180723:\n",
      "5:MIRRORED WALL ART TABLE LAMP, with distance of 0.6621595501939357:\n"
     ]
    }
   ],
   "source": [
    "selected_item = e_features.index[query_index]\n",
    "all_knn_recommended = []\n",
    "\n",
    "for i in range(0, len(distance.flatten())):\n",
    "    if i == 0:\n",
    "        print(\"Recommendation for {0}:\\n\".format(e_features.index[query_index]))\n",
    "    else:\n",
    "        print(\"{0}:{1}, with distance of {2}:\".format(i,e_features.index[indices.flatten()[i]],distance.flatten()[i]))\n",
    "\n",
    "    all_knn_recommended.append(e_features.index[indices.flatten()[i]])"
   ]
  },
  {
   "cell_type": "code",
   "execution_count": 50,
   "metadata": {},
   "outputs": [],
   "source": [
    "data_copy = data_copy.dropna()"
   ]
  },
  {
   "cell_type": "markdown",
   "metadata": {},
   "source": [
    "## Calculating overall performance based on similarity"
   ]
  },
  {
   "cell_type": "code",
   "execution_count": 51,
   "metadata": {},
   "outputs": [
    {
     "name": "stdout",
     "output_type": "stream",
     "text": [
      "Average Similarity KNN: 0.999999899914684\n"
     ]
    }
   ],
   "source": [
    "average_similarity_knn = []\n",
    "Euclidean_knn = []\n",
    "\n",
    "select_song_features = data_copy[data_copy.Description == selected_item].drop(columns=['InvoiceNo','StockCode','Description','InvoiceDate','Country']).values[0]\n",
    "\n",
    "for item in all_knn_recommended:\n",
    "    recommended_song_feature = data_copy[data_copy.Description == item].drop(columns=['InvoiceNo','StockCode','Description','InvoiceDate','Country']).values[0]\n",
    "\n",
    "    result = dot(select_song_features, recommended_song_feature)/(norm(select_song_features)*norm(recommended_song_feature))\n",
    "    average_similarity_knn.append(result)\n",
    "    dist = np.linalg.norm(recommended_song_feature - select_song_features)\n",
    "    Euclidean_knn.append(dist)\n",
    "  \n",
    "\n",
    "print(\"Average Similarity KNN:\", sum(average_similarity_knn)/len(average_similarity_knn))"
   ]
  },
  {
   "cell_type": "markdown",
   "metadata": {},
   "source": [
    "# Distance"
   ]
  },
  {
   "cell_type": "code",
   "execution_count": 52,
   "metadata": {},
   "outputs": [
    {
     "name": "stdout",
     "output_type": "stream",
     "text": [
      "Diversity in KNN: 1053.84\n"
     ]
    }
   ],
   "source": [
    "print(\"Diversity in KNN:\",np.mean(Euclidean_knn).round(2))"
   ]
  },
  {
   "cell_type": "markdown",
   "metadata": {},
   "source": [
    "# Artificial Neural Network"
   ]
  },
  {
   "cell_type": "code",
   "execution_count": 53,
   "metadata": {},
   "outputs": [],
   "source": [
    "data = pd.read_csv(\"ecommerce.csv\",encoding= 'unicode_escape')\n",
    "# unicode escape in python tells to consider quotes inside a string as normal data and not consider it as string termination.\n",
    "data = data.dropna()"
   ]
  },
  {
   "cell_type": "code",
   "execution_count": 54,
   "metadata": {},
   "outputs": [
    {
     "data": {
      "text/plain": [
       "array([3249, 2649, 2855, ..., 3675, 3475, 2403])"
      ]
     },
     "execution_count": 54,
     "metadata": {},
     "output_type": "execute_result"
    }
   ],
   "source": [
    "# Import label encoder\n",
    "from sklearn import preprocessing\n",
    "  \n",
    "# label_encoder object knows how to understand word labels.\n",
    "label_encoder = preprocessing.LabelEncoder()\n",
    "  \n",
    "# Encode labels in column 'species'.\n",
    "data['StockCode']= label_encoder.fit_transform(data['StockCode'])\n",
    "  \n",
    "data['StockCode'].unique()"
   ]
  },
  {
   "cell_type": "code",
   "execution_count": 55,
   "metadata": {},
   "outputs": [],
   "source": [
    "# data = data.head(1000)\n",
    "ratings = data.drop(columns=[\"InvoiceNo\",\"InvoiceDate\",\"UnitPrice\",\"Description\",\"Country\"])"
   ]
  },
  {
   "cell_type": "code",
   "execution_count": 56,
   "metadata": {},
   "outputs": [],
   "source": [
    "ratings = ratings.drop_duplicates()\n",
    "ratings = ratings.dropna()"
   ]
  },
  {
   "cell_type": "code",
   "execution_count": 57,
   "metadata": {},
   "outputs": [
    {
     "data": {
      "text/html": [
       "<div>\n",
       "<style scoped>\n",
       "    .dataframe tbody tr th:only-of-type {\n",
       "        vertical-align: middle;\n",
       "    }\n",
       "\n",
       "    .dataframe tbody tr th {\n",
       "        vertical-align: top;\n",
       "    }\n",
       "\n",
       "    .dataframe thead th {\n",
       "        text-align: right;\n",
       "    }\n",
       "</style>\n",
       "<table border=\"1\" class=\"dataframe\">\n",
       "  <thead>\n",
       "    <tr style=\"text-align: right;\">\n",
       "      <th></th>\n",
       "      <th>StockCode</th>\n",
       "      <th>Quantity</th>\n",
       "      <th>CustomerID</th>\n",
       "    </tr>\n",
       "  </thead>\n",
       "  <tbody>\n",
       "    <tr>\n",
       "      <th>0</th>\n",
       "      <td>3249</td>\n",
       "      <td>6</td>\n",
       "      <td>17850.0</td>\n",
       "    </tr>\n",
       "    <tr>\n",
       "      <th>1</th>\n",
       "      <td>2649</td>\n",
       "      <td>6</td>\n",
       "      <td>17850.0</td>\n",
       "    </tr>\n",
       "    <tr>\n",
       "      <th>2</th>\n",
       "      <td>2855</td>\n",
       "      <td>8</td>\n",
       "      <td>17850.0</td>\n",
       "    </tr>\n",
       "    <tr>\n",
       "      <th>3</th>\n",
       "      <td>2803</td>\n",
       "      <td>6</td>\n",
       "      <td>17850.0</td>\n",
       "    </tr>\n",
       "    <tr>\n",
       "      <th>4</th>\n",
       "      <td>2802</td>\n",
       "      <td>6</td>\n",
       "      <td>17850.0</td>\n",
       "    </tr>\n",
       "  </tbody>\n",
       "</table>\n",
       "</div>"
      ],
      "text/plain": [
       "   StockCode  Quantity  CustomerID\n",
       "0       3249         6     17850.0\n",
       "1       2649         6     17850.0\n",
       "2       2855         8     17850.0\n",
       "3       2803         6     17850.0\n",
       "4       2802         6     17850.0"
      ]
     },
     "execution_count": 57,
     "metadata": {},
     "output_type": "execute_result"
    }
   ],
   "source": [
    "data_ann_copy = data.copy()\n",
    "data_ann_copy = data_ann_copy.dropna()\n",
    "ratings.head()"
   ]
  },
  {
   "cell_type": "code",
   "execution_count": 58,
   "metadata": {},
   "outputs": [],
   "source": [
    "user_ids = data[\"CustomerID\"].unique().tolist()\n",
    "user2user_encoded = {x: i for i, x in enumerate(user_ids)}\n",
    "userencoded2user = {i: x for i, x in enumerate(user_ids)}\n",
    "item_ids = data[\"StockCode\"].unique().tolist()\n",
    "item2item_encoded = {x: i for i, x in enumerate(item_ids)}\n",
    "item_encoded2item = {i: x for i, x in enumerate(item_ids)}\n",
    "data[\"user\"] = data[\"CustomerID\"].map(user2user_encoded)\n",
    "data[\"item\"] = data[\"StockCode\"].map(item2item_encoded)\n",
    "\n",
    "num_users = len(user2user_encoded)\n",
    "num_items = len(item_encoded2item)\n",
    "data[\"Quantity\"] = data[\"Quantity\"].values.astype(np.float32)\n",
    "# min and max ratings will be used to normalize the ratings later\n",
    "min_rating = min(data[\"Quantity\"])\n",
    "max_rating = max(data[\"Quantity\"])"
   ]
  },
  {
   "cell_type": "code",
   "execution_count": 59,
   "metadata": {},
   "outputs": [],
   "source": [
    "# data = data.sample(frac=0.01, random_state=42)\n",
    "x = data[[\"CustomerID\", \"StockCode\"]].values\n",
    "# Normalize the targets between 0 and 1. Makes it easy to train.\n",
    "y = data[\"Quantity\"].apply(lambda x: (x - min_rating) / (max_rating - min_rating)).values\n",
    "# Assuming training on 90% of the data and validating on 10%.\n",
    "train_indices = int(0.9 * data.shape[0])\n",
    "x_train, x_val, y_train, y_val = (\n",
    "    x[:train_indices],\n",
    "    x[train_indices:],\n",
    "    y[:train_indices],\n",
    "    y[train_indices:],\n",
    ")"
   ]
  },
  {
   "cell_type": "code",
   "execution_count": 60,
   "metadata": {},
   "outputs": [],
   "source": [
    "EMBEDDING_SIZE = 50 # length of features to be used by ANN\n",
    "\n",
    "\n",
    "class RecommenderNet(keras.Model):\n",
    "    def __init__(self, num_users, num_movies, embedding_size, **kwargs):\n",
    "        super(RecommenderNet, self).__init__(**kwargs) # parent class we are calling to use, shouldn't modify\n",
    "        self.num_users = num_users\n",
    "        self.num_movies = num_movies\n",
    "        self.embedding_size = embedding_size\n",
    "        self.user_embedding = layers.Embedding(\n",
    "            num_users,\n",
    "            embedding_size,\n",
    "            embeddings_initializer=\"he_normal\",\n",
    "            embeddings_regularizer=keras.regularizers.l2(1e-6),\n",
    "        )\n",
    "        self.user_bias = layers.Embedding(num_users, 1)\n",
    "        self.movie_embedding = layers.Embedding(\n",
    "            num_movies,\n",
    "            embedding_size,\n",
    "            embeddings_initializer=\"he_normal\",\n",
    "            embeddings_regularizer=keras.regularizers.l2(1e-6),\n",
    "        )\n",
    "        self.movie_bias = layers.Embedding(num_movies, 1)\n",
    "\n",
    "    def call(self, inputs):\n",
    "        user_vector = self.user_embedding(inputs[:, 0])\n",
    "        user_bias = self.user_bias(inputs[:, 0])\n",
    "        movie_vector = self.movie_embedding(inputs[:, 1])\n",
    "        movie_bias = self.movie_bias(inputs[:, 1])\n",
    "        dot_user_movie = tf.tensordot(user_vector, movie_vector, 2)\n",
    "        # Add all the components (including bias)\n",
    "        x = dot_user_movie + user_bias + movie_bias\n",
    "        # The sigmoid activation forces the rating to between 0 and 1\n",
    "        return tf.nn.sigmoid(x)\n",
    "\n",
    "model = RecommenderNet(num_users, num_items, EMBEDDING_SIZE)\n",
    "model.compile(\n",
    "    loss=tf.keras.losses.BinaryCrossentropy(),\n",
    "    optimizer=keras.optimizers.Adam(learning_rate=0.001),\n",
    ")"
   ]
  },
  {
   "cell_type": "code",
   "execution_count": 61,
   "metadata": {},
   "outputs": [
    {
     "data": {
      "text/html": [
       "<div>\n",
       "<style scoped>\n",
       "    .dataframe tbody tr th:only-of-type {\n",
       "        vertical-align: middle;\n",
       "    }\n",
       "\n",
       "    .dataframe tbody tr th {\n",
       "        vertical-align: top;\n",
       "    }\n",
       "\n",
       "    .dataframe thead th {\n",
       "        text-align: right;\n",
       "    }\n",
       "</style>\n",
       "<table border=\"1\" class=\"dataframe\">\n",
       "  <thead>\n",
       "    <tr style=\"text-align: right;\">\n",
       "      <th></th>\n",
       "      <th>StockCode</th>\n",
       "      <th>Quantity</th>\n",
       "      <th>CustomerID</th>\n",
       "    </tr>\n",
       "  </thead>\n",
       "  <tbody>\n",
       "    <tr>\n",
       "      <th>0</th>\n",
       "      <td>3249</td>\n",
       "      <td>6</td>\n",
       "      <td>17850.0</td>\n",
       "    </tr>\n",
       "    <tr>\n",
       "      <th>1</th>\n",
       "      <td>2649</td>\n",
       "      <td>6</td>\n",
       "      <td>17850.0</td>\n",
       "    </tr>\n",
       "    <tr>\n",
       "      <th>2</th>\n",
       "      <td>2855</td>\n",
       "      <td>8</td>\n",
       "      <td>17850.0</td>\n",
       "    </tr>\n",
       "    <tr>\n",
       "      <th>3</th>\n",
       "      <td>2803</td>\n",
       "      <td>6</td>\n",
       "      <td>17850.0</td>\n",
       "    </tr>\n",
       "    <tr>\n",
       "      <th>4</th>\n",
       "      <td>2802</td>\n",
       "      <td>6</td>\n",
       "      <td>17850.0</td>\n",
       "    </tr>\n",
       "    <tr>\n",
       "      <th>...</th>\n",
       "      <td>...</td>\n",
       "      <td>...</td>\n",
       "      <td>...</td>\n",
       "    </tr>\n",
       "    <tr>\n",
       "      <th>541890</th>\n",
       "      <td>964</td>\n",
       "      <td>8</td>\n",
       "      <td>13113.0</td>\n",
       "    </tr>\n",
       "    <tr>\n",
       "      <th>541894</th>\n",
       "      <td>1488</td>\n",
       "      <td>12</td>\n",
       "      <td>12680.0</td>\n",
       "    </tr>\n",
       "    <tr>\n",
       "      <th>541904</th>\n",
       "      <td>1470</td>\n",
       "      <td>12</td>\n",
       "      <td>12680.0</td>\n",
       "    </tr>\n",
       "    <tr>\n",
       "      <th>541907</th>\n",
       "      <td>2087</td>\n",
       "      <td>4</td>\n",
       "      <td>12680.0</td>\n",
       "    </tr>\n",
       "    <tr>\n",
       "      <th>541908</th>\n",
       "      <td>1039</td>\n",
       "      <td>3</td>\n",
       "      <td>12680.0</td>\n",
       "    </tr>\n",
       "  </tbody>\n",
       "</table>\n",
       "<p>326885 rows × 3 columns</p>\n",
       "</div>"
      ],
      "text/plain": [
       "        StockCode  Quantity  CustomerID\n",
       "0            3249         6     17850.0\n",
       "1            2649         6     17850.0\n",
       "2            2855         8     17850.0\n",
       "3            2803         6     17850.0\n",
       "4            2802         6     17850.0\n",
       "...           ...       ...         ...\n",
       "541890        964         8     13113.0\n",
       "541894       1488        12     12680.0\n",
       "541904       1470        12     12680.0\n",
       "541907       2087         4     12680.0\n",
       "541908       1039         3     12680.0\n",
       "\n",
       "[326885 rows x 3 columns]"
      ]
     },
     "execution_count": 61,
     "metadata": {},
     "output_type": "execute_result"
    }
   ],
   "source": [
    "ratings"
   ]
  },
  {
   "cell_type": "code",
   "execution_count": 62,
   "metadata": {},
   "outputs": [
    {
     "name": "stdout",
     "output_type": "stream",
     "text": [
      "116/116 [==============================] - 0s 875us/step\n"
     ]
    }
   ],
   "source": [
    "# Let us get a user and see the top recommendations.\n",
    "user_id = ratings.CustomerID.sample(1).iloc[0]\n",
    "items_purchased_by_user = ratings[ratings.CustomerID == user_id]\n",
    "\n",
    "items_not_purchased = ratings[ratings.CustomerID != user_id]['StockCode']\n",
    "\n",
    "items_not_purchased = list(\n",
    "    set(items_not_purchased).intersection(set(item2item_encoded.keys()))\n",
    ")\n",
    "items_not_purchased = [[item2item_encoded.get(x)] for x in items_not_purchased]\n",
    "\n",
    "user_encoder = user2user_encoded.get(user_id)\n",
    "user_item_array = np.hstack(\n",
    "    ([[user_encoder]] * len(items_not_purchased), items_not_purchased)\n",
    ")\n",
    "\n",
    "ratings = model.predict(user_item_array).flatten()\n",
    "top_ratings_indices = ratings.argsort()[-10:][::-1]\n",
    "recommended_item_ids = [\n",
    "    item_encoded2item.get(items_not_purchased[x][0]) for x in top_ratings_indices\n",
    "]"
   ]
  },
  {
   "cell_type": "code",
   "execution_count": 63,
   "metadata": {},
   "outputs": [
    {
     "name": "stdout",
     "output_type": "stream",
     "text": [
      "Showing Top recommendations for user: 14088.0\n",
      "--------------------------------\n",
      "{'LARGE CAMPHOR WOOD FIELD MUSHROOM ', 'RELAX LARGE WOOD LETTERS', 'MIRRORED WALL ART SKULLS', '75 GREEN FAIRY CAKE CASES', 'PINK SMALL JEWELLED PHOTOFRAME', 'SET 4 NURSERY DES ROUND BOXES', 'MIRRORED WALL ART SPLODGES', 'ENVELOPE 50 CURIOUS IMAGES', 'TOAST ITS - HAPPY BIRTHDAY', 'LARGE  TALL CAMPHOR WOOD TOADSTOOL '}\n"
     ]
    }
   ],
   "source": [
    "print(\"Showing Top recommendations for user: {}\".format(user_id))\n",
    "print(\"----\" * 8)\n",
    "recommended_items = data[data[\"StockCode\"].isin(recommended_item_ids)]\n",
    "\n",
    "unique_recommended_items = set()\n",
    "recommended_itemids = set()\n",
    "for row in recommended_items.itertuples():\n",
    "    if int(row.Quantity) >= 1:\n",
    "        unique_recommended_items.add(f\"{row.Description}\")\n",
    "        recommended_itemids.add(f\"{row.StockCode}\")\n",
    "         \n",
    "print(unique_recommended_items)"
   ]
  },
  {
   "cell_type": "markdown",
   "metadata": {},
   "source": [
    "## Calculating overall performance based on similarity"
   ]
  },
  {
   "cell_type": "code",
   "execution_count": 64,
   "metadata": {},
   "outputs": [
    {
     "name": "stdout",
     "output_type": "stream",
     "text": [
      "Average Similarity ANN: 0.04116927141388185\n"
     ]
    }
   ],
   "source": [
    "average_similarity_ann = []\n",
    "Euclidean_ann = []\n",
    "\n",
    "select_item_features = data_ann_copy[data_ann_copy.CustomerID == (items_purchased_by_user['CustomerID']).values[0]].drop(columns=['InvoiceNo','StockCode','Description','InvoiceDate','Country'])\n",
    "\n",
    "for item in unique_recommended_items:\n",
    "    recommended_item_feature = data_ann_copy[data_ann_copy.Description == item].drop(columns=['InvoiceNo','StockCode','Description','InvoiceDate','Country']).values[0]\n",
    "\n",
    "    result = dot(select_item_features, recommended_item_feature)/(norm(select_item_features)*norm(recommended_item_feature))\n",
    "    average_similarity_ann.append(result)\n",
    "    dist = np.linalg.norm(recommended_item_feature - select_item_features)\n",
    "    Euclidean_ann.append(dist)\n",
    "\n",
    "\n",
    "print(\"Average Similarity ANN:\", np.mean(average_similarity_ann))"
   ]
  },
  {
   "cell_type": "markdown",
   "metadata": {},
   "source": [
    "# Euclidean Distance"
   ]
  },
  {
   "cell_type": "code",
   "execution_count": 65,
   "metadata": {},
   "outputs": [
    {
     "name": "stdout",
     "output_type": "stream",
     "text": [
      "Distance in ANN: 38861.47\n"
     ]
    }
   ],
   "source": [
    "print(\"Distance in ANN:\",np.mean(Euclidean_ann).round(2))"
   ]
  },
  {
   "cell_type": "markdown",
   "metadata": {},
   "source": [
    "## Performance Comparision\n",
    "### Cosine similarity comparision\n"
   ]
  },
  {
   "cell_type": "code",
   "execution_count": 66,
   "metadata": {},
   "outputs": [
    {
     "name": "stdout",
     "output_type": "stream",
     "text": [
      "[0.999999899914684, 0.04116927141388185]\n"
     ]
    },
    {
     "data": {
      "text/plain": [
       "Text(0.5, 1.0, 'Cosine similarity Comparison (Higher is better)')"
      ]
     },
     "execution_count": 66,
     "metadata": {},
     "output_type": "execute_result"
    },
    {
     "data": {
      "image/png": "[encoded data removed]",
      "text/plain": [
       "<Figure size 720x360 with 1 Axes>"
      ]
     },
     "metadata": {
      "needs_background": "light"
     },
     "output_type": "display_data"
    }
   ],
   "source": [
    "algorithms = ['KNN','ANN']\n",
    "similarities = [np.mean(average_similarity_knn),np.mean(average_similarity_ann)]\n",
    "print(similarities)\n",
    "\n",
    "plt.figure(figsize=[10,5])\n",
    "plt.bar(algorithms, similarities)\n",
    "plt.xlabel(\"Algorithms\")\n",
    "plt.ylabel(\"Cosine similarity\")\n",
    "plt.ylim([min(similarities)-(max(similarities)-min(similarities)),max(similarities)+(max(similarities)-min(similarities))])\n",
    "plt.title(\"Cosine similarity Comparison (Higher is better)\")"
   ]
  },
  {
   "cell_type": "markdown",
   "metadata": {},
   "source": [
    "### Euclidean distance comparision"
   ]
  },
  {
   "cell_type": "code",
   "execution_count": 67,
   "metadata": {},
   "outputs": [
    {
     "name": "stdout",
     "output_type": "stream",
     "text": [
      "[1053.841030246905, 38861.47053330807]\n"
     ]
    },
    {
     "data": {
      "text/plain": [
       "Text(0.5, 1.0, 'Euclidean distance Comparison (Lower is better)')"
      ]
     },
     "execution_count": 67,
     "metadata": {},
     "output_type": "execute_result"
    },
    {
     "data": {
      "image/png": "[encoded data removed]",
      "text/plain": [
       "<Figure size 720x360 with 1 Axes>"
      ]
     },
     "metadata": {
      "needs_background": "light"
     },
     "output_type": "display_data"
    }
   ],
   "source": [
    "algorithms = ['KNN','ANN']\n",
    "distance = [np.mean(Euclidean_knn),np.mean(Euclidean_ann)]\n",
    "print(distance)\n",
    "\n",
    "plt.figure(figsize=[10,5])\n",
    "plt.bar(algorithms, distance)\n",
    "plt.xlabel(\"Algorithms\")\n",
    "plt.ylabel(\"Euclidean distance\")\n",
    "plt.ylim(-1000,5000)\n",
    "plt.title(\"Euclidean distance Comparison (Lower is better)\")"
   ]
  }
 ],
 "metadata": {
  "interpreter": {
   "hash": "aee8b7b246df8f9039afb4144a1f6fd8d2ca17a180786b69acc140d282b71a49"
  },
  "kernelspec": {
   "display_name": "Python 3.9.13 64-bit",
   "language": "python",
   "name": "python3"
  },
  "language_info": {
   "codemirror_mode": {
    "name": "ipython",
    "version": 3
   },
   "file_extension": ".py",
   "mimetype": "text/x-python",
   "name": "python",
   "nbconvert_exporter": "python",
   "pygments_lexer": "ipython3",
   "version": "3.9.13"
  },
  "orig_nbformat": 4
 },
 "nbformat": 4,
 "nbformat_minor": 2
}
