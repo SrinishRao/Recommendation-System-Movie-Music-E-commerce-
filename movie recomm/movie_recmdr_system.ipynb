{
 "cells": [
  {
   "cell_type": "code",
   "execution_count": 32,
   "metadata": {},
   "outputs": [],
   "source": [
    "import pandas as pd\n",
    "\n",
    "import numpy as np\n",
    "\n",
    "import matplotlib.pyplot as plt\n",
    "%matplotlib inline\n",
    "\n",
    "from numpy import dot\n",
    "from numpy.linalg import norm\n",
    "\n",
    "# for artificial neural network\n",
    "import tensorflow as tf\n",
    "from tensorflow import keras\n",
    "from tensorflow.keras import layers"
   ]
  },
  {
   "cell_type": "code",
   "execution_count": 33,
   "metadata": {},
   "outputs": [],
   "source": [
    "# read data\n",
    "movies = pd.read_csv((\"Netflix_Dataset_Movie.csv\"),\n",
    "    usecols=['Movie_ID', 'Name'],\n",
    "    dtype={'Movie_ID': 'int32', 'Name': 'str'})\n",
    "\n",
    "ratings = pd.read_csv((\"Netflix_Dataset_Rating.csv\"),\n",
    "    usecols=['User_ID', 'Movie_ID', 'Rating'],\n",
    "    dtype={'User_ID': 'int32', 'Movie_ID': 'int32', 'Rating': 'float32'})"
   ]
  },
  {
   "cell_type": "markdown",
   "metadata": {},
   "source": [
    "# Let’s take a look at the two datasets: Movies and Ratings"
   ]
  },
  {
   "cell_type": "code",
   "execution_count": 34,
   "metadata": {},
   "outputs": [
    {
     "data": {
      "text/html": [
       "<div>\n",
       "<style scoped>\n",
       "    .dataframe tbody tr th:only-of-type {\n",
       "        vertical-align: middle;\n",
       "    }\n",
       "\n",
       "    .dataframe tbody tr th {\n",
       "        vertical-align: top;\n",
       "    }\n",
       "\n",
       "    .dataframe thead th {\n",
       "        text-align: right;\n",
       "    }\n",
       "</style>\n",
       "<table border=\"1\" class=\"dataframe\">\n",
       "  <thead>\n",
       "    <tr style=\"text-align: right;\">\n",
       "      <th></th>\n",
       "      <th>Movie_ID</th>\n",
       "      <th>Name</th>\n",
       "    </tr>\n",
       "  </thead>\n",
       "  <tbody>\n",
       "    <tr>\n",
       "      <th>0</th>\n",
       "      <td>1</td>\n",
       "      <td>Dinosaur Planet</td>\n",
       "    </tr>\n",
       "    <tr>\n",
       "      <th>1</th>\n",
       "      <td>2</td>\n",
       "      <td>Isle of Man TT 2004 Review</td>\n",
       "    </tr>\n",
       "    <tr>\n",
       "      <th>2</th>\n",
       "      <td>3</td>\n",
       "      <td>Character</td>\n",
       "    </tr>\n",
       "    <tr>\n",
       "      <th>3</th>\n",
       "      <td>4</td>\n",
       "      <td>Paula Abdul's Get Up &amp; Dance</td>\n",
       "    </tr>\n",
       "    <tr>\n",
       "      <th>4</th>\n",
       "      <td>5</td>\n",
       "      <td>The Rise and Fall of ECW</td>\n",
       "    </tr>\n",
       "  </tbody>\n",
       "</table>\n",
       "</div>"
      ],
      "text/plain": [
       "   Movie_ID                          Name\n",
       "0         1               Dinosaur Planet\n",
       "1         2    Isle of Man TT 2004 Review\n",
       "2         3                     Character\n",
       "3         4  Paula Abdul's Get Up & Dance\n",
       "4         5      The Rise and Fall of ECW"
      ]
     },
     "execution_count": 34,
     "metadata": {},
     "output_type": "execute_result"
    }
   ],
   "source": [
    "movies.head()"
   ]
  },
  {
   "cell_type": "code",
   "execution_count": 35,
   "metadata": {},
   "outputs": [
    {
     "data": {
      "text/html": [
       "<div>\n",
       "<style scoped>\n",
       "    .dataframe tbody tr th:only-of-type {\n",
       "        vertical-align: middle;\n",
       "    }\n",
       "\n",
       "    .dataframe tbody tr th {\n",
       "        vertical-align: top;\n",
       "    }\n",
       "\n",
       "    .dataframe thead th {\n",
       "        text-align: right;\n",
       "    }\n",
       "</style>\n",
       "<table border=\"1\" class=\"dataframe\">\n",
       "  <thead>\n",
       "    <tr style=\"text-align: right;\">\n",
       "      <th></th>\n",
       "      <th>User_ID</th>\n",
       "      <th>Rating</th>\n",
       "      <th>Movie_ID</th>\n",
       "    </tr>\n",
       "  </thead>\n",
       "  <tbody>\n",
       "    <tr>\n",
       "      <th>0</th>\n",
       "      <td>712664</td>\n",
       "      <td>5.0</td>\n",
       "      <td>3</td>\n",
       "    </tr>\n",
       "    <tr>\n",
       "      <th>1</th>\n",
       "      <td>1331154</td>\n",
       "      <td>4.0</td>\n",
       "      <td>3</td>\n",
       "    </tr>\n",
       "    <tr>\n",
       "      <th>2</th>\n",
       "      <td>2632461</td>\n",
       "      <td>3.0</td>\n",
       "      <td>3</td>\n",
       "    </tr>\n",
       "    <tr>\n",
       "      <th>3</th>\n",
       "      <td>44937</td>\n",
       "      <td>5.0</td>\n",
       "      <td>3</td>\n",
       "    </tr>\n",
       "    <tr>\n",
       "      <th>4</th>\n",
       "      <td>656399</td>\n",
       "      <td>4.0</td>\n",
       "      <td>3</td>\n",
       "    </tr>\n",
       "  </tbody>\n",
       "</table>\n",
       "</div>"
      ],
      "text/plain": [
       "   User_ID  Rating  Movie_ID\n",
       "0   712664     5.0         3\n",
       "1  1331154     4.0         3\n",
       "2  2632461     3.0         3\n",
       "3    44937     5.0         3\n",
       "4   656399     4.0         3"
      ]
     },
     "execution_count": 35,
     "metadata": {},
     "output_type": "execute_result"
    }
   ],
   "source": [
    "ratings.head()"
   ]
  },
  {
   "cell_type": "markdown",
   "metadata": {},
   "source": [
    "# Merging the movie & rating datasets into one "
   ]
  },
  {
   "cell_type": "code",
   "execution_count": 36,
   "metadata": {},
   "outputs": [
    {
     "data": {
      "text/html": [
       "<div>\n",
       "<style scoped>\n",
       "    .dataframe tbody tr th:only-of-type {\n",
       "        vertical-align: middle;\n",
       "    }\n",
       "\n",
       "    .dataframe tbody tr th {\n",
       "        vertical-align: top;\n",
       "    }\n",
       "\n",
       "    .dataframe thead th {\n",
       "        text-align: right;\n",
       "    }\n",
       "</style>\n",
       "<table border=\"1\" class=\"dataframe\">\n",
       "  <thead>\n",
       "    <tr style=\"text-align: right;\">\n",
       "      <th></th>\n",
       "      <th>Movie_ID</th>\n",
       "      <th>Name</th>\n",
       "      <th>User_ID</th>\n",
       "      <th>Rating</th>\n",
       "    </tr>\n",
       "  </thead>\n",
       "  <tbody>\n",
       "    <tr>\n",
       "      <th>0</th>\n",
       "      <td>3</td>\n",
       "      <td>Character</td>\n",
       "      <td>712664</td>\n",
       "      <td>5.0</td>\n",
       "    </tr>\n",
       "    <tr>\n",
       "      <th>1</th>\n",
       "      <td>3</td>\n",
       "      <td>Character</td>\n",
       "      <td>1331154</td>\n",
       "      <td>4.0</td>\n",
       "    </tr>\n",
       "    <tr>\n",
       "      <th>2</th>\n",
       "      <td>3</td>\n",
       "      <td>Character</td>\n",
       "      <td>2632461</td>\n",
       "      <td>3.0</td>\n",
       "    </tr>\n",
       "    <tr>\n",
       "      <th>3</th>\n",
       "      <td>3</td>\n",
       "      <td>Character</td>\n",
       "      <td>44937</td>\n",
       "      <td>5.0</td>\n",
       "    </tr>\n",
       "    <tr>\n",
       "      <th>4</th>\n",
       "      <td>3</td>\n",
       "      <td>Character</td>\n",
       "      <td>656399</td>\n",
       "      <td>4.0</td>\n",
       "    </tr>\n",
       "    <tr>\n",
       "      <th>...</th>\n",
       "      <td>...</td>\n",
       "      <td>...</td>\n",
       "      <td>...</td>\n",
       "      <td>...</td>\n",
       "    </tr>\n",
       "    <tr>\n",
       "      <th>17337453</th>\n",
       "      <td>4496</td>\n",
       "      <td>Farewell My Concubine</td>\n",
       "      <td>520675</td>\n",
       "      <td>3.0</td>\n",
       "    </tr>\n",
       "    <tr>\n",
       "      <th>17337454</th>\n",
       "      <td>4496</td>\n",
       "      <td>Farewell My Concubine</td>\n",
       "      <td>1055714</td>\n",
       "      <td>5.0</td>\n",
       "    </tr>\n",
       "    <tr>\n",
       "      <th>17337455</th>\n",
       "      <td>4496</td>\n",
       "      <td>Farewell My Concubine</td>\n",
       "      <td>2643029</td>\n",
       "      <td>4.0</td>\n",
       "    </tr>\n",
       "    <tr>\n",
       "      <th>17337456</th>\n",
       "      <td>4496</td>\n",
       "      <td>Farewell My Concubine</td>\n",
       "      <td>1559566</td>\n",
       "      <td>3.0</td>\n",
       "    </tr>\n",
       "    <tr>\n",
       "      <th>17337457</th>\n",
       "      <td>4496</td>\n",
       "      <td>Farewell My Concubine</td>\n",
       "      <td>293198</td>\n",
       "      <td>3.0</td>\n",
       "    </tr>\n",
       "  </tbody>\n",
       "</table>\n",
       "<p>17337458 rows × 4 columns</p>\n",
       "</div>"
      ],
      "text/plain": [
       "          Movie_ID                   Name  User_ID  Rating\n",
       "0                3              Character   712664     5.0\n",
       "1                3              Character  1331154     4.0\n",
       "2                3              Character  2632461     3.0\n",
       "3                3              Character    44937     5.0\n",
       "4                3              Character   656399     4.0\n",
       "...            ...                    ...      ...     ...\n",
       "17337453      4496  Farewell My Concubine   520675     3.0\n",
       "17337454      4496  Farewell My Concubine  1055714     5.0\n",
       "17337455      4496  Farewell My Concubine  2643029     4.0\n",
       "17337456      4496  Farewell My Concubine  1559566     3.0\n",
       "17337457      4496  Farewell My Concubine   293198     3.0\n",
       "\n",
       "[17337458 rows x 4 columns]"
      ]
     },
     "execution_count": 36,
     "metadata": {},
     "output_type": "execute_result"
    }
   ],
   "source": [
    "df = pd.merge(movies,ratings,on=\"Movie_ID\")\n",
    "data_copy = df.copy()\n",
    "df"
   ]
  },
  {
   "cell_type": "markdown",
   "metadata": {},
   "source": [
    "# Lets create pivot table\n",
    "pivot table turns the data to view it from different perspectives."
   ]
  },
  {
   "cell_type": "code",
   "execution_count": 37,
   "metadata": {},
   "outputs": [
    {
     "data": {
      "text/html": [
       "<div>\n",
       "<style scoped>\n",
       "    .dataframe tbody tr th:only-of-type {\n",
       "        vertical-align: middle;\n",
       "    }\n",
       "\n",
       "    .dataframe tbody tr th {\n",
       "        vertical-align: top;\n",
       "    }\n",
       "\n",
       "    .dataframe thead th {\n",
       "        text-align: right;\n",
       "    }\n",
       "</style>\n",
       "<table border=\"1\" class=\"dataframe\">\n",
       "  <thead>\n",
       "    <tr style=\"text-align: right;\">\n",
       "      <th>User_ID</th>\n",
       "      <th>6</th>\n",
       "      <th>7</th>\n",
       "      <th>79</th>\n",
       "      <th>97</th>\n",
       "      <th>134</th>\n",
       "      <th>169</th>\n",
       "      <th>183</th>\n",
       "      <th>188</th>\n",
       "      <th>195</th>\n",
       "      <th>199</th>\n",
       "      <th>...</th>\n",
       "      <th>2649308</th>\n",
       "      <th>2649328</th>\n",
       "      <th>2649331</th>\n",
       "      <th>2649335</th>\n",
       "      <th>2649336</th>\n",
       "      <th>2649370</th>\n",
       "      <th>2649378</th>\n",
       "      <th>2649388</th>\n",
       "      <th>2649426</th>\n",
       "      <th>2649429</th>\n",
       "    </tr>\n",
       "    <tr>\n",
       "      <th>Name</th>\n",
       "      <th></th>\n",
       "      <th></th>\n",
       "      <th></th>\n",
       "      <th></th>\n",
       "      <th></th>\n",
       "      <th></th>\n",
       "      <th></th>\n",
       "      <th></th>\n",
       "      <th></th>\n",
       "      <th></th>\n",
       "      <th></th>\n",
       "      <th></th>\n",
       "      <th></th>\n",
       "      <th></th>\n",
       "      <th></th>\n",
       "      <th></th>\n",
       "      <th></th>\n",
       "      <th></th>\n",
       "      <th></th>\n",
       "      <th></th>\n",
       "      <th></th>\n",
       "    </tr>\n",
       "  </thead>\n",
       "  <tbody>\n",
       "    <tr>\n",
       "      <th>10</th>\n",
       "      <td>0.0</td>\n",
       "      <td>0.0</td>\n",
       "      <td>0.0</td>\n",
       "      <td>0.0</td>\n",
       "      <td>0.0</td>\n",
       "      <td>0.0</td>\n",
       "      <td>0.0</td>\n",
       "      <td>0.0</td>\n",
       "      <td>0.0</td>\n",
       "      <td>0.0</td>\n",
       "      <td>...</td>\n",
       "      <td>0.0</td>\n",
       "      <td>0.0</td>\n",
       "      <td>0.0</td>\n",
       "      <td>0.0</td>\n",
       "      <td>0.0</td>\n",
       "      <td>0.0</td>\n",
       "      <td>0.0</td>\n",
       "      <td>0.0</td>\n",
       "      <td>0.0</td>\n",
       "      <td>0.0</td>\n",
       "    </tr>\n",
       "    <tr>\n",
       "      <th>10 Things I Hate About You</th>\n",
       "      <td>0.0</td>\n",
       "      <td>0.0</td>\n",
       "      <td>0.0</td>\n",
       "      <td>0.0</td>\n",
       "      <td>5.0</td>\n",
       "      <td>0.0</td>\n",
       "      <td>0.0</td>\n",
       "      <td>0.0</td>\n",
       "      <td>0.0</td>\n",
       "      <td>0.0</td>\n",
       "      <td>...</td>\n",
       "      <td>0.0</td>\n",
       "      <td>4.0</td>\n",
       "      <td>0.0</td>\n",
       "      <td>0.0</td>\n",
       "      <td>0.0</td>\n",
       "      <td>0.0</td>\n",
       "      <td>0.0</td>\n",
       "      <td>0.0</td>\n",
       "      <td>0.0</td>\n",
       "      <td>0.0</td>\n",
       "    </tr>\n",
       "    <tr>\n",
       "      <th>101 Dalmatians II: Patch's London Adventure</th>\n",
       "      <td>0.0</td>\n",
       "      <td>0.0</td>\n",
       "      <td>3.0</td>\n",
       "      <td>0.0</td>\n",
       "      <td>0.0</td>\n",
       "      <td>0.0</td>\n",
       "      <td>0.0</td>\n",
       "      <td>0.0</td>\n",
       "      <td>0.0</td>\n",
       "      <td>0.0</td>\n",
       "      <td>...</td>\n",
       "      <td>0.0</td>\n",
       "      <td>0.0</td>\n",
       "      <td>0.0</td>\n",
       "      <td>0.0</td>\n",
       "      <td>0.0</td>\n",
       "      <td>0.0</td>\n",
       "      <td>0.0</td>\n",
       "      <td>0.0</td>\n",
       "      <td>0.0</td>\n",
       "      <td>0.0</td>\n",
       "    </tr>\n",
       "    <tr>\n",
       "      <th>11:14</th>\n",
       "      <td>0.0</td>\n",
       "      <td>0.0</td>\n",
       "      <td>0.0</td>\n",
       "      <td>0.0</td>\n",
       "      <td>0.0</td>\n",
       "      <td>0.0</td>\n",
       "      <td>0.0</td>\n",
       "      <td>0.0</td>\n",
       "      <td>0.0</td>\n",
       "      <td>0.0</td>\n",
       "      <td>...</td>\n",
       "      <td>0.0</td>\n",
       "      <td>0.0</td>\n",
       "      <td>0.0</td>\n",
       "      <td>0.0</td>\n",
       "      <td>0.0</td>\n",
       "      <td>0.0</td>\n",
       "      <td>0.0</td>\n",
       "      <td>0.0</td>\n",
       "      <td>0.0</td>\n",
       "      <td>0.0</td>\n",
       "    </tr>\n",
       "    <tr>\n",
       "      <th>13 Ghosts</th>\n",
       "      <td>0.0</td>\n",
       "      <td>0.0</td>\n",
       "      <td>0.0</td>\n",
       "      <td>0.0</td>\n",
       "      <td>0.0</td>\n",
       "      <td>0.0</td>\n",
       "      <td>0.0</td>\n",
       "      <td>0.0</td>\n",
       "      <td>0.0</td>\n",
       "      <td>0.0</td>\n",
       "      <td>...</td>\n",
       "      <td>0.0</td>\n",
       "      <td>0.0</td>\n",
       "      <td>0.0</td>\n",
       "      <td>0.0</td>\n",
       "      <td>0.0</td>\n",
       "      <td>0.0</td>\n",
       "      <td>0.0</td>\n",
       "      <td>0.0</td>\n",
       "      <td>0.0</td>\n",
       "      <td>0.0</td>\n",
       "    </tr>\n",
       "  </tbody>\n",
       "</table>\n",
       "<p>5 rows × 143458 columns</p>\n",
       "</div>"
      ],
      "text/plain": [
       "User_ID                                      6        7        79       \\\n",
       "Name                                                                     \n",
       "10                                               0.0      0.0      0.0   \n",
       "10 Things I Hate About You                       0.0      0.0      0.0   \n",
       "101 Dalmatians II: Patch's London Adventure      0.0      0.0      3.0   \n",
       "11:14                                            0.0      0.0      0.0   \n",
       "13 Ghosts                                        0.0      0.0      0.0   \n",
       "\n",
       "User_ID                                      97       134      169      \\\n",
       "Name                                                                     \n",
       "10                                               0.0      0.0      0.0   \n",
       "10 Things I Hate About You                       0.0      5.0      0.0   \n",
       "101 Dalmatians II: Patch's London Adventure      0.0      0.0      0.0   \n",
       "11:14                                            0.0      0.0      0.0   \n",
       "13 Ghosts                                        0.0      0.0      0.0   \n",
       "\n",
       "User_ID                                      183      188      195      \\\n",
       "Name                                                                     \n",
       "10                                               0.0      0.0      0.0   \n",
       "10 Things I Hate About You                       0.0      0.0      0.0   \n",
       "101 Dalmatians II: Patch's London Adventure      0.0      0.0      0.0   \n",
       "11:14                                            0.0      0.0      0.0   \n",
       "13 Ghosts                                        0.0      0.0      0.0   \n",
       "\n",
       "User_ID                                      199      ...  2649308  2649328  \\\n",
       "Name                                                  ...                     \n",
       "10                                               0.0  ...      0.0      0.0   \n",
       "10 Things I Hate About You                       0.0  ...      0.0      4.0   \n",
       "101 Dalmatians II: Patch's London Adventure      0.0  ...      0.0      0.0   \n",
       "11:14                                            0.0  ...      0.0      0.0   \n",
       "13 Ghosts                                        0.0  ...      0.0      0.0   \n",
       "\n",
       "User_ID                                      2649331  2649335  2649336  \\\n",
       "Name                                                                     \n",
       "10                                               0.0      0.0      0.0   \n",
       "10 Things I Hate About You                       0.0      0.0      0.0   \n",
       "101 Dalmatians II: Patch's London Adventure      0.0      0.0      0.0   \n",
       "11:14                                            0.0      0.0      0.0   \n",
       "13 Ghosts                                        0.0      0.0      0.0   \n",
       "\n",
       "User_ID                                      2649370  2649378  2649388  \\\n",
       "Name                                                                     \n",
       "10                                               0.0      0.0      0.0   \n",
       "10 Things I Hate About You                       0.0      0.0      0.0   \n",
       "101 Dalmatians II: Patch's London Adventure      0.0      0.0      0.0   \n",
       "11:14                                            0.0      0.0      0.0   \n",
       "13 Ghosts                                        0.0      0.0      0.0   \n",
       "\n",
       "User_ID                                      2649426  2649429  \n",
       "Name                                                           \n",
       "10                                               0.0      0.0  \n",
       "10 Things I Hate About You                       0.0      0.0  \n",
       "101 Dalmatians II: Patch's London Adventure      0.0      0.0  \n",
       "11:14                                            0.0      0.0  \n",
       "13 Ghosts                                        0.0      0.0  \n",
       "\n",
       "[5 rows x 143458 columns]"
      ]
     },
     "execution_count": 37,
     "metadata": {},
     "output_type": "execute_result"
    }
   ],
   "source": [
    "features =df.pivot_table(index=\"Name\",columns=\"User_ID\",values=\"Rating\").fillna(0)\n",
    "features.head()"
   ]
  },
  {
   "cell_type": "markdown",
   "metadata": {},
   "source": [
    "# Lets convert pivot table into Array matrix"
   ]
  },
  {
   "cell_type": "code",
   "execution_count": 38,
   "metadata": {},
   "outputs": [],
   "source": [
    "# to give the table to knn algorithm\n",
    "from scipy.sparse import csr_matrix\n",
    "\n",
    "features_matrix = csr_matrix(features.values)"
   ]
  },
  {
   "cell_type": "markdown",
   "metadata": {},
   "source": [
    "# KNN\n",
    "Using cosine similarity to get the similarities between the movies"
   ]
  },
  {
   "cell_type": "code",
   "execution_count": 39,
   "metadata": {},
   "outputs": [
    {
     "data": {
      "text/html": [
       "<style>#sk-container-id-2 {color: black;background-color: white;}#sk-container-id-2 pre{padding: 0;}#sk-container-id-2 div.sk-toggleable {background-color: white;}#sk-container-id-2 label.sk-toggleable__label {cursor: pointer;display: block;width: 100%;margin-bottom: 0;padding: 0.3em;box-sizing: border-box;text-align: center;}#sk-container-id-2 label.sk-toggleable__label-arrow:before {content: \"▸\";float: left;margin-right: 0.25em;color: #696969;}#sk-container-id-2 label.sk-toggleable__label-arrow:hover:before {color: black;}#sk-container-id-2 div.sk-estimator:hover label.sk-toggleable__label-arrow:before {color: black;}#sk-container-id-2 div.sk-toggleable__content {max-height: 0;max-width: 0;overflow: hidden;text-align: left;background-color: #f0f8ff;}#sk-container-id-2 div.sk-toggleable__content pre {margin: 0.2em;color: black;border-radius: 0.25em;background-color: #f0f8ff;}#sk-container-id-2 input.sk-toggleable__control:checked~div.sk-toggleable__content {max-height: 200px;max-width: 100%;overflow: auto;}#sk-container-id-2 input.sk-toggleable__control:checked~label.sk-toggleable__label-arrow:before {content: \"▾\";}#sk-container-id-2 div.sk-estimator input.sk-toggleable__control:checked~label.sk-toggleable__label {background-color: #d4ebff;}#sk-container-id-2 div.sk-label input.sk-toggleable__control:checked~label.sk-toggleable__label {background-color: #d4ebff;}#sk-container-id-2 input.sk-hidden--visually {border: 0;clip: rect(1px 1px 1px 1px);clip: rect(1px, 1px, 1px, 1px);height: 1px;margin: -1px;overflow: hidden;padding: 0;position: absolute;width: 1px;}#sk-container-id-2 div.sk-estimator {font-family: monospace;background-color: #f0f8ff;border: 1px dotted black;border-radius: 0.25em;box-sizing: border-box;margin-bottom: 0.5em;}#sk-container-id-2 div.sk-estimator:hover {background-color: #d4ebff;}#sk-container-id-2 div.sk-parallel-item::after {content: \"\";width: 100%;border-bottom: 1px solid gray;flex-grow: 1;}#sk-container-id-2 div.sk-label:hover label.sk-toggleable__label {background-color: #d4ebff;}#sk-container-id-2 div.sk-serial::before {content: \"\";position: absolute;border-left: 1px solid gray;box-sizing: border-box;top: 0;bottom: 0;left: 50%;z-index: 0;}#sk-container-id-2 div.sk-serial {display: flex;flex-direction: column;align-items: center;background-color: white;padding-right: 0.2em;padding-left: 0.2em;position: relative;}#sk-container-id-2 div.sk-item {position: relative;z-index: 1;}#sk-container-id-2 div.sk-parallel {display: flex;align-items: stretch;justify-content: center;background-color: white;position: relative;}#sk-container-id-2 div.sk-item::before, #sk-container-id-2 div.sk-parallel-item::before {content: \"\";position: absolute;border-left: 1px solid gray;box-sizing: border-box;top: 0;bottom: 0;left: 50%;z-index: -1;}#sk-container-id-2 div.sk-parallel-item {display: flex;flex-direction: column;z-index: 1;position: relative;background-color: white;}#sk-container-id-2 div.sk-parallel-item:first-child::after {align-self: flex-end;width: 50%;}#sk-container-id-2 div.sk-parallel-item:last-child::after {align-self: flex-start;width: 50%;}#sk-container-id-2 div.sk-parallel-item:only-child::after {width: 0;}#sk-container-id-2 div.sk-dashed-wrapped {border: 1px dashed gray;margin: 0 0.4em 0.5em 0.4em;box-sizing: border-box;padding-bottom: 0.4em;background-color: white;}#sk-container-id-2 div.sk-label label {font-family: monospace;font-weight: bold;display: inline-block;line-height: 1.2em;}#sk-container-id-2 div.sk-label-container {text-align: center;}#sk-container-id-2 div.sk-container {/* jupyter's `normalize.less` sets `[hidden] { display: none; }` but bootstrap.min.css set `[hidden] { display: none !important; }` so we also need the `!important` here to be able to override the default hidden behavior on the sphinx rendered scikit-learn.org. See: https://github.com/scikit-learn/scikit-learn/issues/21755 */display: inline-block !important;position: relative;}#sk-container-id-2 div.sk-text-repr-fallback {display: none;}</style><div id=\"sk-container-id-2\" class=\"sk-top-container\"><div class=\"sk-text-repr-fallback\"><pre>NearestNeighbors(algorithm=&#x27;brute&#x27;, metric=&#x27;cosine&#x27;)</pre><b>In a Jupyter environment, please rerun this cell to show the HTML representation or trust the notebook. <br />On GitHub, the HTML representation is unable to render, please try loading this page with nbviewer.org.</b></div><div class=\"sk-container\" hidden><div class=\"sk-item\"><div class=\"sk-estimator sk-toggleable\"><input class=\"sk-toggleable__control sk-hidden--visually\" id=\"sk-estimator-id-2\" type=\"checkbox\" checked><label for=\"sk-estimator-id-2\" class=\"sk-toggleable__label sk-toggleable__label-arrow\">NearestNeighbors</label><div class=\"sk-toggleable__content\"><pre>NearestNeighbors(algorithm=&#x27;brute&#x27;, metric=&#x27;cosine&#x27;)</pre></div></div></div></div></div>"
      ],
      "text/plain": [
       "NearestNeighbors(algorithm='brute', metric='cosine')"
      ]
     },
     "execution_count": 39,
     "metadata": {},
     "output_type": "execute_result"
    }
   ],
   "source": [
    "from sklearn.neighbors import NearestNeighbors\n",
    "\n",
    "# Initializing the model\n",
    "model_knn = NearestNeighbors(metric=\"cosine\",algorithm=\"brute\")\n",
    "# Training the model\n",
    "model_knn.fit(features_matrix)"
   ]
  },
  {
   "cell_type": "code",
   "execution_count": 40,
   "metadata": {},
   "outputs": [
    {
     "data": {
      "text/plain": [
       "(1342, 143458)"
      ]
     },
     "execution_count": 40,
     "metadata": {},
     "output_type": "execute_result"
    }
   ],
   "source": [
    "features.shape"
   ]
  },
  {
   "cell_type": "markdown",
   "metadata": {},
   "source": [
    "# Selecting a movie name to give recommendation"
   ]
  },
  {
   "cell_type": "code",
   "execution_count": 41,
   "metadata": {},
   "outputs": [
    {
     "name": "stdout",
     "output_type": "stream",
     "text": [
      "1130\n"
     ]
    }
   ],
   "source": [
    "MOVIE_NAME = \"The Program\"\n",
    "\n",
    "query_index = 0\n",
    "for data in features.index:\n",
    "    \n",
    "    if MOVIE_NAME.lower().strip() in data.lower():\n",
    "        print(query_index)\n",
    "        break\n",
    "    query_index += 1\n"
   ]
  },
  {
   "cell_type": "code",
   "execution_count": 42,
   "metadata": {},
   "outputs": [
    {
     "name": "stdout",
     "output_type": "stream",
     "text": [
      "1130\n"
     ]
    }
   ],
   "source": [
    "print(query_index)\n",
    "distance , indices = model_knn.kneighbors(features.iloc[query_index,:].values.reshape(1,-1), n_neighbors=6)"
   ]
  },
  {
   "cell_type": "markdown",
   "metadata": {},
   "source": [
    "# Making recommendation"
   ]
  },
  {
   "cell_type": "code",
   "execution_count": 43,
   "metadata": {},
   "outputs": [
    {
     "name": "stdout",
     "output_type": "stream",
     "text": [
      "Recommendation for -> The Program:\n",
      "\n",
      "1:Major League, with distance of 0.7894385457038879:\n",
      "2:Bad Boys, with distance of 0.8042342662811279:\n",
      "3:Rambo: First Blood Part II, with distance of 0.8073121309280396:\n",
      "4:National Lampoon's Van Wilder, with distance of 0.8097115755081177:\n",
      "5:American Wedding, with distance of 0.8131489753723145:\n"
     ]
    }
   ],
   "source": [
    "for i in range(0, len(distance.flatten())): #used to get a copy of an given array collapsed into one dimension.\n",
    "    if i == 0:\n",
    "        print(\"Recommendation for -> {0}:\\n\".format(features.index[query_index]))\n",
    "    else:\n",
    "        print(\"{0}:{1}, with distance of {2}:\".format(i,features.index[indices.flatten()[i]],distance.flatten()[i]))"
   ]
  },
  {
   "cell_type": "markdown",
   "metadata": {},
   "source": [
    "# Selecting a random movie to give recommendation"
   ]
  },
  {
   "cell_type": "code",
   "execution_count": 44,
   "metadata": {},
   "outputs": [
    {
     "name": "stdout",
     "output_type": "stream",
     "text": [
      "848\n"
     ]
    }
   ],
   "source": [
    "query_index = np.random.choice(features.shape[0])\n",
    "print(query_index)\n",
    "distance , indices = model_knn.kneighbors(features.iloc[query_index,:].values.reshape(1,-1), n_neighbors=6)\n"
   ]
  },
  {
   "cell_type": "markdown",
   "metadata": {},
   "source": [
    "# Making Movie Recommendations"
   ]
  },
  {
   "cell_type": "code",
   "execution_count": 45,
   "metadata": {},
   "outputs": [
    {
     "name": "stdout",
     "output_type": "stream",
     "text": [
      "Recommendation for -> Shanghai Triad:\n",
      "\n",
      "1:Not One Less, with distance of 0.717227041721344:\n",
      "2:Farewell My Concubine, with distance of 0.7234659194946289:\n",
      "3:The Scent of Green Papaya, with distance of 0.7686340808868408:\n",
      "4:Eat Drink Man Woman, with distance of 0.7828532457351685:\n",
      "5:In the Mood for Love, with distance of 0.7961928844451904:\n"
     ]
    }
   ],
   "source": [
    "selected_song = features.index[query_index]\n",
    "all_knn_recommended = []\n",
    "\n",
    "for i in range(0, len(distance.flatten())): #used to get a copy of an given array collapsed into one dimension.\n",
    "    if i == 0:\n",
    "        print(\"Recommendation for -> {0}:\\n\".format(features.index[query_index]))\n",
    "    else:\n",
    "        print(\"{0}:{1}, with distance of {2}:\".format(i,features.index[indices.flatten()[i]],distance.flatten()[i]))\n",
    "        \n",
    "    all_knn_recommended.append(features.index[indices.flatten()[i]])"
   ]
  },
  {
   "cell_type": "markdown",
   "metadata": {},
   "source": [
    "## Calculating overall performance based on similarity"
   ]
  },
  {
   "cell_type": "code",
   "execution_count": 46,
   "metadata": {},
   "outputs": [
    {
     "name": "stdout",
     "output_type": "stream",
     "text": [
      "Average Similarity KNN: 0.9999852582488638\n"
     ]
    }
   ],
   "source": [
    "average_similarity_knn = []\n",
    "Euclidean_knn = []\n",
    "\n",
    "select_song_features = data_copy[data_copy.Name == selected_song].drop(columns=['Name']).values[0]\n",
    "\n",
    "for song in all_knn_recommended:\n",
    "    recommended_song_feature = data_copy[data_copy.Name == song].drop(columns=['Name']).values[0]\n",
    "\n",
    "    result = dot(select_song_features, recommended_song_feature)/(norm(select_song_features)*norm(recommended_song_feature))\n",
    "    average_similarity_knn.append(result)\n",
    "    dist = np.linalg.norm(recommended_song_feature - select_song_features)\n",
    "    Euclidean_knn.append(dist)\n",
    "\n",
    "print(\"Average Similarity KNN:\", np.mean(average_similarity_knn))"
   ]
  },
  {
   "cell_type": "markdown",
   "metadata": {},
   "source": [
    "# Euclidean Distance"
   ]
  },
  {
   "cell_type": "code",
   "execution_count": 47,
   "metadata": {},
   "outputs": [
    {
     "name": "stdout",
     "output_type": "stream",
     "text": [
      "Diversity in KNN: 378974.9\n"
     ]
    }
   ],
   "source": [
    "print(\"Diversity in KNN:\",np.mean(Euclidean_knn).round(2))"
   ]
  },
  {
   "cell_type": "markdown",
   "metadata": {},
   "source": [
    "# Artificial Neural Network"
   ]
  },
  {
   "cell_type": "code",
   "execution_count": 48,
   "metadata": {},
   "outputs": [],
   "source": [
    "data_ann_copy = df.copy()"
   ]
  },
  {
   "cell_type": "code",
   "execution_count": 49,
   "metadata": {},
   "outputs": [
    {
     "name": "stdout",
     "output_type": "stream",
     "text": [
      "Number of users: 143458, Number of Movies: 1350, Min rating: 1.0, Max rating: 5.0\n"
     ]
    }
   ],
   "source": [
    "# Setting user ids\n",
    "user_ids = df[\"User_ID\"].unique().tolist()\n",
    "user2user_encoded = {x: i for i, x in enumerate(user_ids)}\n",
    "userencoded2user = {i: x for i, x in enumerate(user_ids)}\n",
    "# Setting the movie ids\n",
    "movie_ids = df[\"Movie_ID\"].unique().tolist()\n",
    "# Enumerate function will return the count\n",
    "movie2movie_encoded = {x: i for i, x in enumerate(movie_ids)}\n",
    "movie_encoded2movie = {i: x for i, x in enumerate(movie_ids)}\n",
    "# referrence features \n",
    "df[\"user\"] = df[\"User_ID\"].map(user2user_encoded)\n",
    "df[\"movie\"] = df[\"Movie_ID\"].map(movie2movie_encoded)\n",
    "# calculating number users and movies\n",
    "num_users = len(user2user_encoded)\n",
    "num_movies = len(movie_encoded2movie)\n",
    "# reference attribute\n",
    "df[\"rating\"] = df[\"Rating\"].values.astype(np.float32)\n",
    "# min and max ratings will be used to normalize the ratings later\n",
    "min_rating = min(df[\"rating\"])\n",
    "max_rating = max(df[\"rating\"])\n",
    "\n",
    "print(\n",
    "    \"Number of users: {}, Number of Movies: {}, Min rating: {}, Max rating: {}\".format(\n",
    "        num_users, num_movies, min_rating, max_rating\n",
    "    )\n",
    ")"
   ]
  },
  {
   "cell_type": "code",
   "execution_count": 50,
   "metadata": {},
   "outputs": [],
   "source": [
    "# Sampling the dataset\n",
    "df = df.sample(frac=0.01, random_state=42)\n",
    "x = df[[\"user\", \"movie\"]].values\n",
    "# Normalize the targets between 0 and 1. Makes it easy to train.\n",
    "y = df[\"rating\"].apply(lambda x: (x - min_rating) / (max_rating - min_rating)).values\n",
    "# Assuming training on 90% of the data and testing on 10%.\n",
    "train_indices = int(0.9 * df.shape[0])\n",
    "x_train, x_val, y_train, y_val = (\n",
    "    x[:train_indices],\n",
    "    x[train_indices:],\n",
    "    y[:train_indices],\n",
    "    y[train_indices:],\n",
    ")"
   ]
  },
  {
   "cell_type": "code",
   "execution_count": 51,
   "metadata": {},
   "outputs": [
    {
     "data": {
      "text/html": [
       "<div>\n",
       "<style scoped>\n",
       "    .dataframe tbody tr th:only-of-type {\n",
       "        vertical-align: middle;\n",
       "    }\n",
       "\n",
       "    .dataframe tbody tr th {\n",
       "        vertical-align: top;\n",
       "    }\n",
       "\n",
       "    .dataframe thead th {\n",
       "        text-align: right;\n",
       "    }\n",
       "</style>\n",
       "<table border=\"1\" class=\"dataframe\">\n",
       "  <thead>\n",
       "    <tr style=\"text-align: right;\">\n",
       "      <th></th>\n",
       "      <th>User_ID</th>\n",
       "      <th>Rating</th>\n",
       "      <th>Movie_ID</th>\n",
       "    </tr>\n",
       "  </thead>\n",
       "  <tbody>\n",
       "    <tr>\n",
       "      <th>0</th>\n",
       "      <td>712664</td>\n",
       "      <td>5.0</td>\n",
       "      <td>3</td>\n",
       "    </tr>\n",
       "    <tr>\n",
       "      <th>1</th>\n",
       "      <td>1331154</td>\n",
       "      <td>4.0</td>\n",
       "      <td>3</td>\n",
       "    </tr>\n",
       "    <tr>\n",
       "      <th>2</th>\n",
       "      <td>2632461</td>\n",
       "      <td>3.0</td>\n",
       "      <td>3</td>\n",
       "    </tr>\n",
       "    <tr>\n",
       "      <th>3</th>\n",
       "      <td>44937</td>\n",
       "      <td>5.0</td>\n",
       "      <td>3</td>\n",
       "    </tr>\n",
       "    <tr>\n",
       "      <th>4</th>\n",
       "      <td>656399</td>\n",
       "      <td>4.0</td>\n",
       "      <td>3</td>\n",
       "    </tr>\n",
       "    <tr>\n",
       "      <th>...</th>\n",
       "      <td>...</td>\n",
       "      <td>...</td>\n",
       "      <td>...</td>\n",
       "    </tr>\n",
       "    <tr>\n",
       "      <th>17337453</th>\n",
       "      <td>520675</td>\n",
       "      <td>3.0</td>\n",
       "      <td>4496</td>\n",
       "    </tr>\n",
       "    <tr>\n",
       "      <th>17337454</th>\n",
       "      <td>1055714</td>\n",
       "      <td>5.0</td>\n",
       "      <td>4496</td>\n",
       "    </tr>\n",
       "    <tr>\n",
       "      <th>17337455</th>\n",
       "      <td>2643029</td>\n",
       "      <td>4.0</td>\n",
       "      <td>4496</td>\n",
       "    </tr>\n",
       "    <tr>\n",
       "      <th>17337456</th>\n",
       "      <td>1559566</td>\n",
       "      <td>3.0</td>\n",
       "      <td>4496</td>\n",
       "    </tr>\n",
       "    <tr>\n",
       "      <th>17337457</th>\n",
       "      <td>293198</td>\n",
       "      <td>3.0</td>\n",
       "      <td>4496</td>\n",
       "    </tr>\n",
       "  </tbody>\n",
       "</table>\n",
       "<p>17337458 rows × 3 columns</p>\n",
       "</div>"
      ],
      "text/plain": [
       "          User_ID  Rating  Movie_ID\n",
       "0          712664     5.0         3\n",
       "1         1331154     4.0         3\n",
       "2         2632461     3.0         3\n",
       "3           44937     5.0         3\n",
       "4          656399     4.0         3\n",
       "...           ...     ...       ...\n",
       "17337453   520675     3.0      4496\n",
       "17337454  1055714     5.0      4496\n",
       "17337455  2643029     4.0      4496\n",
       "17337456  1559566     3.0      4496\n",
       "17337457   293198     3.0      4496\n",
       "\n",
       "[17337458 rows x 3 columns]"
      ]
     },
     "execution_count": 51,
     "metadata": {},
     "output_type": "execute_result"
    }
   ],
   "source": [
    "ratings"
   ]
  },
  {
   "cell_type": "code",
   "execution_count": 52,
   "metadata": {},
   "outputs": [],
   "source": [
    "# Artificial Neural Network Recommendation Model\n",
    "\n",
    "EMBEDDING_SIZE = 50\n",
    "\n",
    "\n",
    "class RecommenderNet(keras.Model):\n",
    "    def __init__(self, num_users, num_movies, embedding_size, **kwargs):\n",
    "        super(RecommenderNet, self).__init__(**kwargs) # parent class we are calling to use, shouldn't modify\n",
    "        self.num_users = num_users\n",
    "        self.num_movies = num_movies\n",
    "        self.embedding_size = embedding_size\n",
    "        self.user_embedding = layers.Embedding(\n",
    "            num_users,\n",
    "            embedding_size,\n",
    "            embeddings_initializer=\"he_normal\",\n",
    "            embeddings_regularizer=keras.regularizers.l2(1e-6),\n",
    "        )\n",
    "        self.user_bias = layers.Embedding(num_users, 1)\n",
    "        self.movie_embedding = layers.Embedding(\n",
    "            num_movies,\n",
    "            embedding_size,\n",
    "            embeddings_initializer=\"he_normal\",\n",
    "            embeddings_regularizer=keras.regularizers.l2(1e-6),\n",
    "        )\n",
    "        self.movie_bias = layers.Embedding(num_movies, 1)\n",
    "\n",
    "    def call(self, inputs):\n",
    "        user_vector = self.user_embedding(inputs[:, 0])\n",
    "        user_bias = self.user_bias(inputs[:, 0])\n",
    "        movie_vector = self.movie_embedding(inputs[:, 1])\n",
    "        movie_bias = self.movie_bias(inputs[:, 1])\n",
    "        dot_user_movie = tf.tensordot(user_vector, movie_vector, 2)\n",
    "        # Add all the components (including bias)\n",
    "        x = dot_user_movie + user_bias + movie_bias\n",
    "        # The sigmoid activation forces the rating to between 0 and 1\n",
    "        return tf.nn.sigmoid(x)\n",
    "\n",
    "\n",
    "# Model initialization\n",
    "model = RecommenderNet(num_users, num_movies, EMBEDDING_SIZE)\n",
    "model.compile(\n",
    "    loss=tf.keras.losses.BinaryCrossentropy(),\n",
    "    optimizer=keras.optimizers.Adam(learning_rate=0.001),\n",
    ")"
   ]
  },
  {
   "cell_type": "code",
   "execution_count": 53,
   "metadata": {},
   "outputs": [
    {
     "name": "stdout",
     "output_type": "stream",
     "text": [
      "4/4 [==============================] - 0s 1ms/step\n"
     ]
    }
   ],
   "source": [
    "# Let us get a user and see the top recommendations.\n",
    "# Taking random user\n",
    "user_id = ratings.User_ID.sample(1).iloc[0]\n",
    "# Extracting movies watched by the user\n",
    "movies_watched_by_user = ratings[ratings.User_ID == user_id]\n",
    "\n",
    "# EXtracting movies user didnt watched\n",
    "movies_not_watched = ratings[ratings[\"Movie_ID\"].isin(movies_watched_by_user.Movie_ID.values)\n",
    "][\"Movie_ID\"]\n",
    "\n",
    "movies_not_watched = list(\n",
    "    set(movies_not_watched).intersection(set(movie2movie_encoded.keys()))\n",
    ")\n",
    "\n",
    "movies_not_watched = [[movie2movie_encoded.get(x)] for x in movies_not_watched]\n",
    "\n",
    "user_encoder = user2user_encoded.get(user_id)\n",
    "user_movie_array = np.hstack(\n",
    "    ([[user_encoder]] * len(movies_not_watched), movies_not_watched)\n",
    ")\n",
    "\n",
    "# Calling the model\n",
    "# Model prediction\n",
    "ratings = model.predict(user_movie_array).flatten()\n",
    "\n",
    "top_ratings_indices = ratings.argsort()[-10:][::-1]\n",
    "recommended_movie_ids = [\n",
    "    movie_encoded2movie.get(movies_not_watched[x][0]) for x in top_ratings_indices\n",
    "]"
   ]
  },
  {
   "cell_type": "code",
   "execution_count": 54,
   "metadata": {},
   "outputs": [
    {
     "name": "stdout",
     "output_type": "stream",
     "text": [
      "--------------------------------\n",
      "Top 10 movie recommendations for user: 1806805\n",
      "--------------------------------\n",
      "{'Fried Green Tomatoes', 'Along Came Polly', 'House of Sand and Fog', 'In Good Company', 'Boys and Girls', 'Bruce Almighty', 'Bend It Like Beckham', 'Confessions of a Teenage Drama Queen', 'Dear Frankie', 'Pirates of the Caribbean: The Curse of the Black Pearl'}\n"
     ]
    }
   ],
   "source": [
    "print(\"----\" * 8)\n",
    "print(\"Top 10 movie recommendations for user:\",user_id)\n",
    "print(\"----\" * 8)\n",
    "recommended_movies = df[df[\"Movie_ID\"].isin(recommended_movie_ids)]\n",
    "\n",
    "unique_recommended_movies = set()\n",
    "recommended_movieids = set()\n",
    "for row in recommended_movies.itertuples():\n",
    "    if int(row.Rating) >= 4.0:\n",
    "        unique_recommended_movies.add(f\"{row.Name}\")\n",
    "        recommended_movieids.add(f\"{row.Movie_ID}\")\n",
    "         \n",
    "print(unique_recommended_movies)"
   ]
  },
  {
   "cell_type": "markdown",
   "metadata": {},
   "source": [
    "## Calculating overall performance based on similarity"
   ]
  },
  {
   "cell_type": "markdown",
   "metadata": {},
   "source": [
    "### The formula for calculating the cosine similarity is : \n",
    "Cos(x, y) = x . y / ||x|| * ||y||"
   ]
  },
  {
   "cell_type": "code",
   "execution_count": 55,
   "metadata": {},
   "outputs": [],
   "source": [
    "movie_selected = movies_watched_by_user.iloc[2]"
   ]
  },
  {
   "cell_type": "code",
   "execution_count": 56,
   "metadata": {},
   "outputs": [
    {
     "name": "stdout",
     "output_type": "stream",
     "text": [
      "Average Similarity ANN: 0.09205542791167241\n"
     ]
    }
   ],
   "source": [
    "average_similarity_ann = []\n",
    "Euclidean_ann = []\n",
    "\n",
    "select_movie_features = data_ann_copy[data_ann_copy.User_ID == (movies_watched_by_user['User_ID']).values[0]].drop(columns=['Name'])\n",
    "\n",
    "for movie in unique_recommended_movies:\n",
    "    recommended_movie_feature = data_ann_copy[data_ann_copy.Name == movie].drop(columns=['Name']).values[0]\n",
    "\n",
    "    result = dot(select_movie_features, recommended_movie_feature)/(norm(select_movie_features)*norm(recommended_movie_feature))\n",
    "    average_similarity_ann.append(result)\n",
    "    dist = np.linalg.norm(recommended_movie_feature - select_movie_features)\n",
    "    Euclidean_ann.append(dist)\n",
    "\n",
    "print(\"Average Similarity ANN:\", np.mean(average_similarity_ann)\n",
    ")"
   ]
  },
  {
   "cell_type": "markdown",
   "metadata": {},
   "source": [
    "# Euclidean Distance"
   ]
  },
  {
   "cell_type": "code",
   "execution_count": 57,
   "metadata": {},
   "outputs": [
    {
     "name": "stdout",
     "output_type": "stream",
     "text": [
      "Distance in ANN: 9381066.49\n"
     ]
    }
   ],
   "source": [
    "print(\"Distance in ANN:\",np.mean(Euclidean_ann).round(2))"
   ]
  },
  {
   "cell_type": "markdown",
   "metadata": {},
   "source": [
    "## Performance Comparision\n",
    "### Cosine similarity comparision\n"
   ]
  },
  {
   "cell_type": "code",
   "execution_count": 58,
   "metadata": {},
   "outputs": [
    {
     "name": "stdout",
     "output_type": "stream",
     "text": [
      "[0.9999852582488638, 0.09205542791167241]\n"
     ]
    },
    {
     "data": {
      "text/plain": [
       "Text(0.5, 1.0, 'Cosine similarity Comparison (Higher is better)')"
      ]
     },
     "execution_count": 58,
     "metadata": {},
     "output_type": "execute_result"
    },
    {
     "data": {
      "image/png": "[encoded data removed]",
      "text/plain": [
       "<Figure size 720x360 with 1 Axes>"
      ]
     },
     "metadata": {
      "needs_background": "light"
     },
     "output_type": "display_data"
    }
   ],
   "source": [
    "algorithms = ['KNN','ANN']\n",
    "similarities = [np.mean(average_similarity_knn),np.mean(average_similarity_ann)]\n",
    "print(similarities)\n",
    "\n",
    "plt.figure(figsize=[10,5])\n",
    "plt.bar(algorithms, similarities)\n",
    "plt.xlabel(\"Algorithms\")\n",
    "plt.ylabel(\"Cosine similarity\")\n",
    "plt.ylim([min(similarities)-(max(similarities)-min(similarities)),max(similarities)+(max(similarities)-min(similarities))])\n",
    "plt.title(\"Cosine similarity Comparison (Higher is better)\")"
   ]
  },
  {
   "cell_type": "markdown",
   "metadata": {},
   "source": [
    "### Euclidean distance comparision"
   ]
  },
  {
   "cell_type": "code",
   "execution_count": 59,
   "metadata": {},
   "outputs": [
    {
     "name": "stdout",
     "output_type": "stream",
     "text": [
      "[378974.9023435002, 9381066.488640092]\n"
     ]
    },
    {
     "data": {
      "text/plain": [
       "Text(0.5, 1.0, 'Euclidean distance Comparison (Lower is better)')"
      ]
     },
     "execution_count": 59,
     "metadata": {},
     "output_type": "execute_result"
    },
    {
     "data": {
      "image/png": "[encoded data removed]",
      "text/plain": [
       "<Figure size 720x360 with 1 Axes>"
      ]
     },
     "metadata": {
      "needs_background": "light"
     },
     "output_type": "display_data"
    }
   ],
   "source": [
    "algorithms = ['KNN','ANN']\n",
    "distance = [np.mean(Euclidean_knn),np.mean(Euclidean_ann)]\n",
    "print(distance)\n",
    "\n",
    "plt.figure(figsize=[10,5])\n",
    "plt.bar(algorithms, distance)\n",
    "plt.xlabel(\"Algorithms\")\n",
    "plt.ylabel(\"Euclidean distance\")\n",
    "plt.ylim(-10000,500000)\n",
    "plt.title(\"Euclidean distance Comparison (Lower is better)\")"
   ]
  }
 ],
 "metadata": {
  "interpreter": {
   "hash": "aee8b7b246df8f9039afb4144a1f6fd8d2ca17a180786b69acc140d282b71a49"
  },
  "kernelspec": {
   "display_name": "Python 3 (ipykernel)",
   "language": "python",
   "name": "python3"
  },
  "language_info": {
   "codemirror_mode": {
    "name": "ipython",
    "version": 3
   },
   "file_extension": ".py",
   "mimetype": "text/x-python",
   "name": "python",
   "nbconvert_exporter": "python",
   "pygments_lexer": "ipython3",
   "version": "3.7.0"
  }
 },
 "nbformat": 4,
 "nbformat_minor": 2
}
